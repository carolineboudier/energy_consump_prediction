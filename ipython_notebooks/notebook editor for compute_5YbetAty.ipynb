{
  "nbformat": 4,
  "nbformat_minor": 0,
  "metadata": {
    "kernelspec": {
      "display_name": "Python 3",
      "language": "python",
      "name": "python3"
    },
    "associatedRecipe": "compute_5YbetAty",
    "dkuGit": {
      "lastInteraction": 0
    },
    "creationTag": {
      "versionNumber": 0,
      "lastModifiedBy": {
        "login": "admin"
      },
      "lastModifiedOn": 1646039654487
    },
    "creator": "admin",
    "createdOn": 1646039654487,
    "tags": [
      "recipe-editor"
    ],
    "customFields": {}
  },
  "cells": [
    {
      "cell_type": "code",
      "metadata": {},
      "outputs": [],
      "execution_count": 0,
      "source": [
        "# -*- coding: utf-8 -*-\n",
        "import dataiku\n",
        "import pandas as pd, numpy as np\n",
        "from dataiku import pandasutils as pdu\n",
        "import matplotlib.pyplot as plt\n",
        "import io\n",
        "\n",
        "# Read recipe inputs\n",
        "full_data_prepared \u003d dataiku.Dataset(\"full_data_prepared\")\n",
        "full_data_prepared_df \u003d full_data_prepared.get_dataframe()"
      ]
    },
    {
      "cell_type": "markdown",
      "metadata": {},
      "source": [
        "It is possible to import **custom code** (edited in the Library editor)"
      ]
    },
    {
      "cell_type": "code",
      "metadata": {},
      "outputs": [],
      "execution_count": 0,
      "source": [
        "from my_package import calc_missing_vals"
      ]
    },
    {
      "cell_type": "code",
      "metadata": {},
      "outputs": [],
      "execution_count": 0,
      "source": [
        "# extract train set\n",
        "train_df\u003dfull_data_prepared_df.dropna(subset\u003d[\u0027site_eui\u0027])"
      ]
    },
    {
      "cell_type": "code",
      "metadata": {},
      "outputs": [],
      "execution_count": 0,
      "source": [
        "missing_df\u003dcalc_missing_vals(train_df)"
      ]
    },
    {
      "cell_type": "code",
      "metadata": {},
      "outputs": [],
      "execution_count": 0,
      "source": [
        "from dataiku import insights\n",
        "my_dpi\u003d96\n",
        "plt.figure(figsize\u003d(1200/my_dpi, 500/my_dpi), dpi\u003dmy_dpi)\n",
        "missing_df.plot.barh(title\u003d\u0027Proportion_of_missing_values\u0027)\n",
        "# save as insights\n",
        "insights.save_figure(\u0027Proportion_of_missing_values\u0027)\n",
        "\n",
        "bs\u003dio.BytesIO()\n",
        "plt.savefig(bs,format\u003d\u0027png\u0027)\n",
        "folder\u003ddataiku.Folder(\"5YbetAty\")\n",
        "folder.upload_stream(\"fig_2.png\",bs.getvalue())"
      ]
    }
  ]
}