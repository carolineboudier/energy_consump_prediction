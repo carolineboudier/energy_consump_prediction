{
  "metadata": {
    "kernelspec": {
      "name": "python3",
      "display_name": "Python 3",
      "language": "python"
    },
    "associatedRecipe": "compute_5YbetAty",
    "creator": "admin",
    "createdOn": 1646039654487,
    "tags": [
      "recipe-editor"
    ],
    "customFields": {},
    "hide_input": false,
    "language_info": {
      "name": "python",
      "version": "3.7.9",
      "mimetype": "text/x-python",
      "codemirror_mode": {
        "name": "ipython",
        "version": 3
      },
      "pygments_lexer": "ipython3",
      "nbconvert_exporter": "python",
      "file_extension": ".py"
    },
    "modifiedBy": "admin"
  },
  "nbformat": 4,
  "nbformat_minor": 1,
  "cells": [
    {
      "execution_count": 15,
      "cell_type": "code",
      "metadata": {},
      "source": [
        "# -*- coding: utf-8 -*-\nimport dataiku\nimport pandas as pd, numpy as np\nfrom dataiku import pandasutils as pdu\nimport matplotlib.pyplot as plt\nimport io\n%pylab inline\n\n# Read recipe inputs\nfull_data_prepared \u003d dataiku.Dataset(\"full_data_prepared\")\nfull_data_prepared_df \u003d full_data_prepared.get_dataframe()"
      ],
      "outputs": [
        {
          "output_type": "stream",
          "text": "Populating the interactive namespace from numpy and matplotlib\n",
          "name": "stdout"
        }
      ]
    },
    {
      "execution_count": 7,
      "cell_type": "code",
      "metadata": {},
      "source": [
        "# extract train set\ntrain_df\u003dfull_data_prepared_df.dropna(subset\u003d[\u0027site_eui\u0027])\nN\u003dlen(train_df)"
      ],
      "outputs": []
    },
    {
      "execution_count": 8,
      "cell_type": "code",
      "metadata": {},
      "source": [
        "# calculate missing values\nmissing_df\u003dtrain_df.isnull().sum()/N*100\nmissing_df\u003dmissing_df[missing_df!\u003d0]\nmissing_df"
      ],
      "outputs": [
        {
          "output_type": "execute_result",
          "execution_count": 8,
          "data": {
            "text/plain": "year_built                    2.424858\nenergy_star_rating           35.256148\ndirection_max_wind_speed     54.228652\ndirection_peak_wind_speed    55.190939\nmax_wind_speed               54.228652\ndays_with_fog                60.451179\ndtype: float64"
          },
          "metadata": {}
        }
      ]
    },
    {
      "execution_count": 14,
      "cell_type": "code",
      "metadata": {},
      "source": [
        "from dataiku import insights\nmissing_df.plot.barh(title\u003d\u0027Proportion_of_missing_values\u0027)\n# save as insights\ninsights.save_figure(\u0027Proportion_of_missing_values\u0027)"
      ],
      "outputs": [
        {
          "output_type": "display_data",
          "data": {
            "text/plain": "\u003cFigure size 432x288 with 1 Axes\u003e",
            "image/png": "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\u003d\n"
          },
          "metadata": {}
        }
      ]
    },
    {
      "execution_count": 19,
      "cell_type": "code",
      "metadata": {},
      "source": [
        "bs\u003dio.BytesIO()\nplt.savefig(bs,format\u003d\u0027png\u0027)\nfolder\u003ddataiku.Folder(\"5YbetAty\")\nfolder.upload_stream(\"fig.png\",bs.getvalue())"
      ],
      "outputs": [
        {
          "output_type": "display_data",
          "data": {
            "text/plain": "\u003cFigure size 432x288 with 0 Axes\u003e"
          },
          "metadata": {}
        }
      ]
    },
    {
      "execution_count": 5,
      "cell_type": "code",
      "metadata": {},
      "source": [
        "\n\n\n\n\n# Write recipe outputs\ncustom_graphs \u003d dataiku.Folder(\"5YbetAty\")\ncustom_graphs_info \u003d custom_graphs.get_info()"
      ],
      "outputs": []
    },
    {
      "execution_count": 0,
      "cell_type": "code",
      "metadata": {},
      "source": [
        ""
      ],
      "outputs": []
    },
    {
      "execution_count": 0,
      "cell_type": "code",
      "metadata": {},
      "source": [
        ""
      ],
      "outputs": []
    }
  ]
}