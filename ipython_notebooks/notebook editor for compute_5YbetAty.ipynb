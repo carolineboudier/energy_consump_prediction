{
  "metadata": {
    "kernelspec": {
      "name": "python3",
      "display_name": "Python 3",
      "language": "python"
    },
    "associatedRecipe": "compute_5YbetAty",
    "creator": "admin",
    "createdOn": 1646039654487,
    "tags": [
      "recipe-editor"
    ],
    "customFields": {},
    "hide_input": false,
    "language_info": {
      "name": "python",
      "version": "3.7.9",
      "mimetype": "text/x-python",
      "codemirror_mode": {
        "name": "ipython",
        "version": 3
      },
      "pygments_lexer": "ipython3",
      "nbconvert_exporter": "python",
      "file_extension": ".py"
    },
    "modifiedBy": "admin"
  },
  "nbformat": 4,
  "nbformat_minor": 1,
  "cells": [
    {
      "execution_count": 6,
      "cell_type": "code",
      "metadata": {},
      "source": [
        "# -*- coding: utf-8 -*-\nimport dataiku\nimport pandas as pd, numpy as np\nfrom dataiku import pandasutils as pdu\nimport matplotlib.pyplot as plt\n\n# Read recipe inputs\nfull_data_prepared \u003d dataiku.Dataset(\"full_data_prepared\")\nfull_data_prepared_df \u003d full_data_prepared.get_dataframe()"
      ],
      "outputs": []
    },
    {
      "execution_count": 10,
      "cell_type": "code",
      "metadata": {},
      "source": [
        "missing_val_df\u003dfull_data_prepared_df.isnull().sum()"
      ],
      "outputs": []
    },
    {
      "execution_count": 19,
      "cell_type": "code",
      "metadata": {},
      "source": [
        "missing_val_df.hist()"
      ],
      "outputs": []
    },
    {
      "execution_count": 0,
      "cell_type": "code",
      "metadata": {},
      "source": [
        "# -*- coding: utf-8 -*-\nimport dataiku\nimport pandas as pd, numpy as np\nfrom dataiku import pandasutils as pdu\n\n# Read recipe inputs\nfull_data_prepared \u003d dataiku.Dataset(\"full_data_prepared\")\nfull_data_prepared_df \u003d full_data_prepared.get_dataframe()\n\n\n\n\n# Write recipe outputs\ncustom_graphs \u003d dataiku.Folder(\"5YbetAty\")\ncustom_graphs_info \u003d custom_graphs.get_info()"
      ],
      "outputs": []
    }
  ]
}