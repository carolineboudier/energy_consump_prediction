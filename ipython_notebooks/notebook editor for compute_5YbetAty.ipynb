{
  "metadata": {
    "kernelspec": {
      "name": "python3",
      "display_name": "Python 3",
      "language": "python"
    },
    "associatedRecipe": "compute_5YbetAty",
    "creator": "admin",
    "createdOn": 1646039654487,
    "tags": [
      "recipe-editor"
    ],
    "customFields": {},
    "hide_input": false,
    "language_info": {
      "name": "python",
      "version": "3.7.9",
      "mimetype": "text/x-python",
      "codemirror_mode": {
        "name": "ipython",
        "version": 3
      },
      "pygments_lexer": "ipython3",
      "nbconvert_exporter": "python",
      "file_extension": ".py"
    },
    "modifiedBy": "admin"
  },
  "nbformat": 4,
  "nbformat_minor": 1,
  "cells": [
    {
      "execution_count": 6,
      "cell_type": "code",
      "metadata": {},
      "source": [
        "# -*- coding: utf-8 -*-\nimport dataiku\nimport pandas as pd, numpy as np\nfrom dataiku import pandasutils as pdu\nimport matplotlib.pyplot as plt\n\n# Read recipe inputs\nfull_data_prepared \u003d dataiku.Dataset(\"full_data_prepared\")\nfull_data_prepared_df \u003d full_data_prepared.get_dataframe()"
      ],
      "outputs": []
    },
    {
      "execution_count": 47,
      "cell_type": "code",
      "metadata": {},
      "source": [
        "# extract train set\ntrain_df\u003dfull_data_prepared_df.dropna(subset\u003d[\u0027site_eui\u0027])\nN\u003dlen(train_df)"
      ],
      "outputs": []
    },
    {
      "execution_count": 32,
      "cell_type": "code",
      "metadata": {},
      "source": [
        ""
      ],
      "outputs": []
    },
    {
      "execution_count": 38,
      "cell_type": "code",
      "metadata": {},
      "source": [
        "missing_df\u003dtrain_df.isnull().sum()/N*100\nmissing_df\u003dmissing_df[missing_df!\u003d0]\nmissing_df"
      ],
      "outputs": [
        {
          "output_type": "execute_result",
          "execution_count": 38,
          "data": {
            "text/plain": "year_built                    2.257144\nenergy_star_rating           33.889916\ndirection_max_wind_speed     58.104187\ndirection_peak_wind_speed    58.957197\nmax_wind_speed               58.104187\ndays_with_fog                64.254288\nsite_eui                     11.355924\ndtype: float64"
          },
          "metadata": {}
        }
      ]
    },
    {
      "execution_count": 0,
      "cell_type": "code",
      "metadata": {},
      "source": [
        "# -*- coding: utf-8 -*-\nimport dataiku\nimport pandas as pd, numpy as np\nfrom dataiku import pandasutils as pdu\n\n# Read recipe inputs\nfull_data_prepared \u003d dataiku.Dataset(\"full_data_prepared\")\nfull_data_prepared_df \u003d full_data_prepared.get_dataframe()\n\n\n\n\n# Write recipe outputs\ncustom_graphs \u003d dataiku.Folder(\"5YbetAty\")\ncustom_graphs_info \u003d custom_graphs.get_info()"
      ],
      "outputs": []
    }
  ]
}