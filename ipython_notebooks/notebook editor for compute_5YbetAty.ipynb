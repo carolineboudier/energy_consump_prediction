{
  "metadata": {
    "kernelspec": {
      "name": "python3",
      "display_name": "Python 3",
      "language": "python"
    },
    "associatedRecipe": "compute_5YbetAty",
    "creator": "admin",
    "createdOn": 1646039654487,
    "tags": [
      "recipe-editor"
    ],
    "customFields": {},
    "hide_input": false,
    "language_info": {
      "name": "python",
      "version": "3.7.9",
      "mimetype": "text/x-python",
      "codemirror_mode": {
        "name": "ipython",
        "version": 3
      },
      "pygments_lexer": "ipython3",
      "nbconvert_exporter": "python",
      "file_extension": ".py"
    },
    "modifiedBy": "admin"
  },
  "nbformat": 4,
  "nbformat_minor": 1,
  "cells": [
    {
      "execution_count": 6,
      "cell_type": "code",
      "metadata": {},
      "source": [
        "# -*- coding: utf-8 -*-\nimport dataiku\nimport pandas as pd, numpy as np\nfrom dataiku import pandasutils as pdu\nimport matplotlib.pyplot as plt\n\n# Read recipe inputs\nfull_data_prepared \u003d dataiku.Dataset(\"full_data_prepared\")\nfull_data_prepared_df \u003d full_data_prepared.get_dataframe()"
      ],
      "outputs": []
    },
    {
      "execution_count": 9,
      "cell_type": "code",
      "metadata": {},
      "source": [
        "full_data_prepared_df.isnull().sum()"
      ],
      "outputs": [
        {
          "output_type": "execute_result",
          "execution_count": 9,
          "data": {
            "text/plain": "Year_Factor                      0\nState_Factor                     0\nbuilding_class                   0\nfacility_type                    0\nfloor_area                       0\nyear_built                    1929\nenergy_star_rating           28963\nELEVATION                        0\njanuary_min_temp                 0\njanuary_avg_temp                 0\njanuary_max_temp                 0\nfebruary_min_temp                0\nfebruary_avg_temp                0\nfebruary_max_temp                0\nmarch_min_temp                   0\nmarch_avg_temp                   0\nmarch_max_temp                   0\napril_min_temp                   0\napril_avg_temp                   0\napril_max_temp                   0\nmay_min_temp                     0\nmay_avg_temp                     0\nmay_max_temp                     0\njune_min_temp                    0\njune_avg_temp                    0\njune_max_temp                    0\njuly_min_temp                    0\njuly_avg_temp                    0\njuly_max_temp                    0\naugust_min_temp                  0\naugust_avg_temp                  0\naugust_max_temp                  0\nseptember_min_temp               0\nseptember_avg_temp               0\nseptember_max_temp               0\noctober_min_temp                 0\noctober_avg_temp                 0\noctober_max_temp                 0\nnovember_min_temp                0\nnovember_avg_temp                0\nnovember_max_temp                0\ndecember_min_temp                0\ndecember_avg_temp                0\ndecember_max_temp                0\ncooling_degree_days              0\nheating_degree_days              0\nprecipitation_inches             0\nsnowfall_inches                  0\nsnowdepth_inches                 0\navg_temp                         0\ndays_below_30F                   0\ndays_below_20F                   0\ndays_below_10F                   0\ndays_below_0F                    0\ndays_above_80F                   0\ndays_above_90F                   0\ndays_above_100F                  0\ndays_above_110F                  0\ndirection_max_wind_speed     49657\ndirection_peak_wind_speed    50386\nmax_wind_speed               49657\ndays_with_fog                54913\nid                               0\nsite_eui                      9705\ndtype: int64"
          },
          "metadata": {}
        }
      ]
    },
    {
      "execution_count": 0,
      "cell_type": "code",
      "metadata": {},
      "source": [
        "# -*- coding: utf-8 -*-\nimport dataiku\nimport pandas as pd, numpy as np\nfrom dataiku import pandasutils as pdu\n\n# Read recipe inputs\nfull_data_prepared \u003d dataiku.Dataset(\"full_data_prepared\")\nfull_data_prepared_df \u003d full_data_prepared.get_dataframe()\n\n\n\n\n# Write recipe outputs\ncustom_graphs \u003d dataiku.Folder(\"5YbetAty\")\ncustom_graphs_info \u003d custom_graphs.get_info()"
      ],
      "outputs": []
    }
  ]
}