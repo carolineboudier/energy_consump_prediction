{
  "metadata": {
    "kernelspec": {
      "name": "python3",
      "display_name": "Python 3",
      "language": "python"
    },
    "associatedRecipe": "compute_5YbetAty",
    "creator": "admin",
    "createdOn": 1646039654487,
    "tags": [
      "recipe-editor"
    ],
    "customFields": {},
    "hide_input": false,
    "language_info": {
      "name": "python",
      "version": "3.7.9",
      "mimetype": "text/x-python",
      "codemirror_mode": {
        "name": "ipython",
        "version": 3
      },
      "pygments_lexer": "ipython3",
      "nbconvert_exporter": "python",
      "file_extension": ".py"
    },
    "modifiedBy": "admin"
  },
  "nbformat": 4,
  "nbformat_minor": 1,
  "cells": [
    {
      "execution_count": 6,
      "cell_type": "code",
      "metadata": {},
      "source": [
        "# -*- coding: utf-8 -*-\nimport dataiku\nimport pandas as pd, numpy as np\nfrom dataiku import pandasutils as pdu\nimport matplotlib.pyplot as plt\n%pylab inline\n\n# Read recipe inputs\nfull_data_prepared \u003d dataiku.Dataset(\"full_data_prepared\")\nfull_data_prepared_df \u003d full_data_prepared.get_dataframe()"
      ],
      "outputs": [
        {
          "output_type": "stream",
          "text": "Populating the interactive namespace from numpy and matplotlib\n",
          "name": "stdout"
        }
      ]
    },
    {
      "execution_count": 7,
      "cell_type": "code",
      "metadata": {},
      "source": [
        "# extract train set\ntrain_df\u003dfull_data_prepared_df.dropna(subset\u003d[\u0027site_eui\u0027])\nN\u003dlen(train_df)"
      ],
      "outputs": []
    },
    {
      "execution_count": 8,
      "cell_type": "code",
      "metadata": {},
      "source": [
        "# calculate missing values\nmissing_df\u003dtrain_df.isnull().sum()/N*100\nmissing_df\u003dmissing_df[missing_df!\u003d0]\nmissing_df"
      ],
      "outputs": [
        {
          "output_type": "execute_result",
          "execution_count": 8,
          "data": {
            "text/plain": "year_built                    2.424858\nenergy_star_rating           35.256148\ndirection_max_wind_speed     54.228652\ndirection_peak_wind_speed    55.190939\nmax_wind_speed               54.228652\ndays_with_fog                60.451179\ndtype: float64"
          },
          "metadata": {}
        }
      ]
    },
    {
      "execution_count": 9,
      "cell_type": "code",
      "metadata": {},
      "source": [
        "missing_df.plot.barh(title\u003d\u0027Proportion of missing values\u0027)\nplt.show()"
      ],
      "outputs": [
        {
          "output_type": "display_data",
          "data": {
            "text/plain": "\u003cFigure size 432x288 with 1 Axes\u003e",
            "image/png": "[encoded data removed]"
          },
          "metadata": {}
        }
      ]
    },
    {
      "execution_count": 5,
      "cell_type": "code",
      "metadata": {},
      "source": [
        "# -*- coding: utf-8 -*-\nimport dataiku\nimport pandas as pd, numpy as np\nfrom dataiku import pandasutils as pdu\n\n# Read recipe inputs\nfull_data_prepared \u003d dataiku.Dataset(\"full_data_prepared\")\nfull_data_prepared_df \u003d full_data_prepared.get_dataframe()\n\n\n\n\n# Write recipe outputs\ncustom_graphs \u003d dataiku.Folder(\"5YbetAty\")\ncustom_graphs_info \u003d custom_graphs.get_info()"
      ],
      "outputs": []
    },
    {
      "execution_count": 0,
      "cell_type": "code",
      "metadata": {},
      "source": [
        ""
      ],
      "outputs": []
    },
    {
      "execution_count": 0,
      "cell_type": "code",
      "metadata": {},
      "source": [
        ""
      ],
      "outputs": []
    }
  ]
}