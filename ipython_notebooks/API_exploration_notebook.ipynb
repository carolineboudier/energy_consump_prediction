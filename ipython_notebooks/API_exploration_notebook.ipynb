{
  "metadata": {
    "kernelspec": {
      "name": "python3",
      "display_name": "Python 3",
      "language": "python"
    },
    "creator": "admin",
    "createdOn": 1645634285332,
    "tags": [],
    "customFields": {},
    "hide_input": false,
    "language_info": {
      "name": "python",
      "version": "3.7.9",
      "mimetype": "text/x-python",
      "codemirror_mode": {
        "name": "ipython",
        "version": 3
      },
      "pygments_lexer": "ipython3",
      "nbconvert_exporter": "python",
      "file_extension": ".py"
    },
    "modifiedBy": "admin"
  },
  "nbformat": 4,
  "nbformat_minor": 1,
  "cells": [
    {
      "execution_count": 0,
      "cell_type": "code",
      "metadata": {},
      "source": [
        "%pylab inline"
      ],
      "outputs": []
    },
    {
      "execution_count": 0,
      "cell_type": "code",
      "metadata": {},
      "source": [
        "import dataiku\nfrom dataiku import pandasutils as pdu\nimport pandas as pd"
      ],
      "outputs": []
    },
    {
      "cell_type": "markdown",
      "metadata": {
        "heading_collapsed": true
      },
      "source": [
        "# PROJECTS"
      ]
    },
    {
      "execution_count": 0,
      "cell_type": "code",
      "metadata": {
        "scrolled": true,
        "hidden": true
      },
      "source": [
        "# create a client\nclient\u003ddataiku.api_client()\nprojects\u003dclient.list_projects()\n\n# print all projects\nfor p in projects:\n    print (p[\u0027projectKey\u0027])"
      ],
      "outputs": []
    },
    {
      "execution_count": 0,
      "cell_type": "code",
      "metadata": {
        "hidden": true
      },
      "source": [
        "# print current project\ndataiku.default_project_key()"
      ],
      "outputs": []
    },
    {
      "cell_type": "markdown",
      "metadata": {
        "heading_collapsed": true
      },
      "source": [
        "# DATASETS"
      ]
    },
    {
      "execution_count": 0,
      "cell_type": "code",
      "metadata": {
        "hidden": true
      },
      "source": [
        "# Example: load a DSS dataset as a Pandas dataframe\nmydataset \u003d dataiku.Dataset(\"mydataset\")\nmydataset_df \u003d mydataset.get_dataframe()"
      ],
      "outputs": []
    },
    {
      "execution_count": 0,
      "cell_type": "code",
      "metadata": {
        "hidden": true
      },
      "source": [
        "client\u003ddataiku.api_client()\nif dataiku.default_project_key()\u003d\u003d\u0027ENERGYCONSUMPTIONPREDICTION\u0027:\n    outcome\u003d\u0027SUCCESS\u0027\nelse: \n    outcome\u003d\u0027FAILED\u0027"
      ],
      "outputs": []
    },
    {
      "execution_count": 0,
      "cell_type": "code",
      "metadata": {
        "hidden": true
      },
      "source": [
        "dataset\u003ddataiku.Dataset(\"full_data_enriched\")\nfull_data_df"
      ],
      "outputs": []
    },
    {
      "cell_type": "markdown",
      "metadata": {
        "hidden": true
      },
      "source": [
        "Read the schema"
      ]
    },
    {
      "execution_count": 1,
      "cell_type": "code",
      "metadata": {
        "hidden": true
      },
      "source": [
        "df.read_schema()"
      ],
      "outputs": [
        {
          "output_type": "error",
          "ename": "NameError",
          "evalue": "name \u0027df\u0027 is not defined",
          "traceback": [
            "\u001b[0;31m---------------------------------------------------------------------------\u001b[0m",
            "\u001b[0;31mNameError\u001b[0m                                 Traceback (most recent call last)",
            "\u001b[0;32m\u003cipython-input-1-b5acd4be053b\u003e\u001b[0m in \u001b[0;36m\u003cmodule\u003e\u001b[0;34m()\u001b[0m\n\u001b[0;32m----\u003e 1\u001b[0;31m \u001b[0mdf\u001b[0m\u001b[0;34m.\u001b[0m\u001b[0mread_schema\u001b[0m\u001b[0;34m(\u001b[0m\u001b[0;34m)\u001b[0m\u001b[0;34m\u001b[0m\u001b[0;34m\u001b[0m\u001b[0m\n\u001b[0m",
            "\u001b[0;31mNameError\u001b[0m: name \u0027df\u0027 is not defined"
          ]
        }
      ]
    },
    {
      "cell_type": "markdown",
      "metadata": {
        "heading_collapsed": true
      },
      "source": [
        "# FOLDERS"
      ]
    },
    {
      "execution_count": 0,
      "cell_type": "code",
      "metadata": {
        "scrolled": true,
        "hidden": true
      },
      "source": [
        "# -*- coding: utf-8 -*-\nimport dataiku\nimport pandas as pd, numpy as np\nfrom dataiku import pandasutils as pdu\n\n# Recipe inputs\ninput_dataset_name \u003d dataiku.Dataset(\"input_dataset_name\")\ninput_dataset_name_df \u003d input_dataset_name.get_dataframe()\n\n# Recipe outputs\nfolder_name \u003d dataiku.Folder(\"folder_id\")\nfolder_name_path \u003d folder_name.get_path()\n\nimport time\ncurrent_day \u003d time.strftime(\"%Y-%m-%d\")\ninput_dataset_name_df.to_csv(path_or_buf\u003dfolder_name_path+\"export_\"+current_day+\".csv\", index\u003dFalse)"
      ],
      "outputs": []
    },
    {
      "cell_type": "markdown",
      "metadata": {
        "hidden": true
      },
      "source": [
        "## Write a dataset in a folder"
      ]
    },
    {
      "execution_count": 0,
      "cell_type": "code",
      "metadata": {
        "hidden": true
      },
      "source": [
        "# Read recipe inputs and get a dataframe\ndataset \u003d dataiku.Dataset(\"data_by_state_filtered_ordered\")\ndf \u003d dataset.get_dataframe()\n\n# -------------------------------------------------------------------------------- NOTEBOOK-CELL: CODE\n# folder handle\nfolder_handle \u003d dataiku.Folder(\"s6qy0GK5\")\n\n# -------------------------------------------------------------------------------- NOTEBOOK-CELL: CODE\n# location wished in the output folder\npath_output_folder\u003d\"datasets\"\n\n# -------------------------------------------------------------------------------- NOTEBOOK-CELL: CODE\nfinal_path\u003dos.path.join(path_output_folder,\"my_file.csv\")\n\n# -------------------------------------------------------------------------------- NOTEBOOK-CELL: CODE\nwith folder_handle.get_writer(final_path) as writer:\n    writer.write(df.to_csv().encode(\"utf-8\"))"
      ],
      "outputs": []
    },
    {
      "cell_type": "markdown",
      "metadata": {
        "hidden": true
      },
      "source": [
        "## Load a pkl model stored in a folder. "
      ]
    },
    {
      "execution_count": 0,
      "cell_type": "code",
      "metadata": {
        "hidden": true
      },
      "source": [
        "from sklearn.externals import joblib\nimport os\n\n# input folder\nfolder_handle \u003d dataiku.Folder(\"1UUJ7dDF\")\n\n# get its path\nfolder_info \u003d folder_handle.get_info()\n\n# load the model as pkl file\nclf \u003d joblib.load(os.path.join(folder_info[\u0027path\u0027], \u0027model.pkl\u0027))"
      ],
      "outputs": []
    },
    {
      "cell_type": "markdown",
      "metadata": {},
      "source": [
        "# VARIABLES"
      ]
    },
    {
      "execution_count": 0,
      "cell_type": "code",
      "metadata": {},
      "source": [
        "project_handle \u003d dataiku.api_client().get_project(dataiku.default_project_key())\nvariables\u003dproject_handle.get_variables()\nvariables[\u0027standard\u0027][\u0027cities_list\u0027]\u003d\u0027my_list\u0027\nproject_handle.set_variables(variables)"
      ],
      "outputs": []
    },
    {
      "execution_count": 4,
      "cell_type": "code",
      "metadata": {},
      "source": [
        "import dataikuapi\nimport dataiku \nimport datetime\n\nproject_handle \u003d dataiku.api_client().get_project(dataiku.default_project_key())\nvariables\u003dproject_handle.get_variables()\n"
      ],
      "outputs": []
    },
    {
      "execution_count": 6,
      "cell_type": "code",
      "metadata": {},
      "source": [
        "datetime.datetime.now()"
      ],
      "outputs": [
        {
          "output_type": "execute_result",
          "execution_count": 6,
          "data": {
            "text/plain": "datetime.datetime(2022, 5, 30, 11, 13, 50, 289153)"
          },
          "metadata": {}
        }
      ]
    },
    {
      "cell_type": "markdown",
      "metadata": {
        "heading_collapsed": true
      },
      "source": [
        "# PARTITIONS"
      ]
    },
    {
      "cell_type": "markdown",
      "metadata": {
        "hidden": true
      },
      "source": [
        "### On peut spécifier une recette générale puis expliciter la partition que l\u0027on veut construire avec l\u0027engrenage! "
      ]
    },
    {
      "execution_count": 0,
      "cell_type": "code",
      "metadata": {
        "hidden": true
      },
      "source": [
        "# lister les partitions\ndataset.list_partitions()"
      ],
      "outputs": []
    },
    {
      "execution_count": 0,
      "cell_type": "code",
      "metadata": {
        "scrolled": true,
        "hidden": true
      },
      "source": [
        "partitioned_code_input_df \u003d input_df # For this sample code, simply copy input to output\n\n# cette cellule ne marchera pas dans un notebook (mais ok dans une recette)\npartitioned_code_input_df[\"ma_partition\"] \u003d dataiku.dku_flow_variables[\"DKU_DST_DATE\"]\n"
      ],
      "outputs": []
    },
    {
      "cell_type": "markdown",
      "metadata": {
        "hidden": true
      },
      "source": [
        "Read only certain partitions"
      ]
    },
    {
      "cell_type": "markdown",
      "metadata": {
        "hidden": true
      },
      "source": [
        "\u003ccode\u003einput_ds \u003d dataiku.Dataset(\"input\")\ninput_ds.read_partitions \u003d [\u00272013-09-19\u0027, \u00272013-09-26\u0027]\ndf_part \u003d input_ds.get_dataframe()\n\u003c/code\u003e"
      ]
    },
    {
      "cell_type": "markdown",
      "metadata": {},
      "source": [
        "# CUSTOM METRICS AND CHECKS"
      ]
    },
    {
      "execution_count": 0,
      "cell_type": "code",
      "metadata": {},
      "source": [
        "# example for a metric in sql\n\nselect count(distinct \"merchant_id\") as unique_merchants \nfrom ${DKU_DATASET_TABLE_NAME}\n\n\n# example for a metric in python\ndef process(dataset, partition_id):\n    df \u003d dataset.get_dataframe()\n    max_purchase_amt \u003d df[\"purchase_amount\"].max()\n    max_purchase_amt_euro \u003d 0.85 * max_purchase_amt\n    return {\"max_purchase_in_euro\": max_purchase_amt_euro}\n"
      ],
      "outputs": []
    },
    {
      "cell_type": "markdown",
      "metadata": {},
      "source": [
        "# FORMULA LANGUAGE"
      ]
    },
    {
      "cell_type": "markdown",
      "metadata": {},
      "source": [
        "\u003ccode\u003e\n1\tJan\n2\tFeb\n3\tMar\n4\tApr\n5\tMay\n6\tJun\n7\tJul\n8\tAug\n9\tSep\n10\tOct\n11\tNov\n12\tDec \u003c/code\u003e"
      ]
    },
    {
      "execution_count": 0,
      "cell_type": "code",
      "metadata": {},
      "source": [
        ""
      ],
      "outputs": []
    }
  ]
}