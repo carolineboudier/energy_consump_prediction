{
  "metadata": {
    "kernelspec": {
      "name": "python3",
      "display_name": "Python 3",
      "language": "python"
    },
    "creator": "admin",
    "createdOn": 1645634285332,
    "tags": [],
    "customFields": {},
    "hide_input": false,
    "language_info": {
      "name": "python",
      "version": "3.7.9",
      "mimetype": "text/x-python",
      "codemirror_mode": {
        "name": "ipython",
        "version": 3
      },
      "pygments_lexer": "ipython3",
      "nbconvert_exporter": "python",
      "file_extension": ".py"
    },
    "modifiedBy": "admin"
  },
  "nbformat": 4,
  "nbformat_minor": 1,
  "cells": [
    {
      "execution_count": 0,
      "cell_type": "code",
      "metadata": {},
      "source": [
        "%pylab inline"
      ],
      "outputs": []
    },
    {
      "execution_count": 0,
      "cell_type": "code",
      "metadata": {},
      "source": [
        "import dataiku\nfrom dataiku import pandasutils as pdu\nimport pandas as pd"
      ],
      "outputs": []
    },
    {
      "cell_type": "markdown",
      "metadata": {
        "heading_collapsed": true
      },
      "source": [
        "# PROJECTS"
      ]
    },
    {
      "execution_count": 0,
      "cell_type": "code",
      "metadata": {
        "scrolled": true,
        "hidden": true
      },
      "source": [
        "# create a client\nclient\u003ddataiku.api_client()\nprojects\u003dclient.list_projects()\n\n# print all projects\nfor p in projects:\n    print (p[\u0027projectKey\u0027])"
      ],
      "outputs": []
    },
    {
      "execution_count": 0,
      "cell_type": "code",
      "metadata": {
        "hidden": true
      },
      "source": [
        "# print current project\ndataiku.default_project_key()"
      ],
      "outputs": []
    },
    {
      "cell_type": "markdown",
      "metadata": {
        "heading_collapsed": true
      },
      "source": [
        "# DATASETS"
      ]
    },
    {
      "execution_count": 0,
      "cell_type": "code",
      "metadata": {
        "hidden": true
      },
      "source": [
        "# Example: load a DSS dataset as a Pandas dataframe\nmydataset \u003d dataiku.Dataset(\"mydataset\")\nmydataset_df \u003d mydataset.get_dataframe()"
      ],
      "outputs": []
    },
    {
      "execution_count": 0,
      "cell_type": "code",
      "metadata": {
        "hidden": true
      },
      "source": [
        "client\u003ddataiku.api_client()\nif dataiku.default_project_key()\u003d\u003d\u0027ENERGYCONSUMPTIONPREDICTION\u0027:\n    outcome\u003d\u0027SUCCESS\u0027\nelse: \n    outcome\u003d\u0027FAILED\u0027"
      ],
      "outputs": []
    },
    {
      "execution_count": 0,
      "cell_type": "code",
      "metadata": {
        "hidden": true
      },
      "source": [
        "dataset\u003ddataiku.Dataset(\"full_data_enriched\")\nfull_data_df"
      ],
      "outputs": []
    },
    {
      "cell_type": "markdown",
      "metadata": {
        "hidden": true
      },
      "source": [
        "Read the schema"
      ]
    },
    {
      "execution_count": 1,
      "cell_type": "code",
      "metadata": {
        "hidden": true
      },
      "source": [
        "df.read_schema()"
      ],
      "outputs": [
        {
          "output_type": "error",
          "ename": "NameError",
          "evalue": "name \u0027df\u0027 is not defined",
          "traceback": [
            "\u001b[0;31m---------------------------------------------------------------------------\u001b[0m",
            "\u001b[0;31mNameError\u001b[0m                                 Traceback (most recent call last)",
            "\u001b[0;32m\u003cipython-input-1-b5acd4be053b\u003e\u001b[0m in \u001b[0;36m\u003cmodule\u003e\u001b[0;34m()\u001b[0m\n\u001b[0;32m----\u003e 1\u001b[0;31m \u001b[0mdf\u001b[0m\u001b[0;34m.\u001b[0m\u001b[0mread_schema\u001b[0m\u001b[0;34m(\u001b[0m\u001b[0;34m)\u001b[0m\u001b[0;34m\u001b[0m\u001b[0;34m\u001b[0m\u001b[0m\n\u001b[0m",
            "\u001b[0;31mNameError\u001b[0m: name \u0027df\u0027 is not defined"
          ]
        }
      ]
    },
    {
      "cell_type": "markdown",
      "metadata": {
        "heading_collapsed": true
      },
      "source": [
        "# FOLDERS"
      ]
    },
    {
      "execution_count": 0,
      "cell_type": "code",
      "metadata": {
        "scrolled": true,
        "hidden": true
      },
      "source": [
        "# -*- coding: utf-8 -*-\nimport dataiku\nimport pandas as pd, numpy as np\nfrom dataiku import pandasutils as pdu\n\n# Recipe inputs\ninput_dataset_name \u003d dataiku.Dataset(\"input_dataset_name\")\ninput_dataset_name_df \u003d input_dataset_name.get_dataframe()\n\n# Recipe outputs\nfolder_name \u003d dataiku.Folder(\"folder_id\")\nfolder_name_path \u003d folder_name.get_path()\n\nimport time\ncurrent_day \u003d time.strftime(\"%Y-%m-%d\")\ninput_dataset_name_df.to_csv(path_or_buf\u003dfolder_name_path+\"export_\"+current_day+\".csv\", index\u003dFalse)"
      ],
      "outputs": []
    },
    {
      "cell_type": "markdown",
      "metadata": {
        "hidden": true
      },
      "source": [
        "## Write a dataset in a folder"
      ]
    },
    {
      "execution_count": 0,
      "cell_type": "code",
      "metadata": {
        "hidden": true
      },
      "source": [
        "# Read recipe inputs and get a dataframe\ndataset \u003d dataiku.Dataset(\"data_by_state_filtered_ordered\")\ndf \u003d dataset.get_dataframe()\n\n# -------------------------------------------------------------------------------- NOTEBOOK-CELL: CODE\n# folder handle\nfolder_handle \u003d dataiku.Folder(\"s6qy0GK5\")\n\n# -------------------------------------------------------------------------------- NOTEBOOK-CELL: CODE\n# location wished in the output folder\npath_output_folder\u003d\"datasets\"\n\n# -------------------------------------------------------------------------------- NOTEBOOK-CELL: CODE\nfinal_path\u003dos.path.join(path_output_folder,\"my_file.csv\")\n\n# -------------------------------------------------------------------------------- NOTEBOOK-CELL: CODE\nwith folder_handle.get_writer(final_path) as writer:\n    writer.write(df.to_csv().encode(\"utf-8\"))"
      ],
      "outputs": []
    },
    {
      "cell_type": "markdown",
      "metadata": {
        "hidden": true
      },
      "source": [
        "## Load a pkl model stored in a folder. "
      ]
    },
    {
      "execution_count": 0,
      "cell_type": "code",
      "metadata": {
        "hidden": true
      },
      "source": [
        "from sklearn.externals import joblib\nimport os\n\n# input folder\nfolder_handle \u003d dataiku.Folder(\"1UUJ7dDF\")\n\n# get its path\nfolder_info \u003d folder_handle.get_info()\n\n# load the model as pkl file\nclf \u003d joblib.load(os.path.join(folder_info[\u0027path\u0027], \u0027model.pkl\u0027))"
      ],
      "outputs": []
    },
    {
      "cell_type": "markdown",
      "metadata": {
        "hidden": true
      },
      "source": [
        "## Copy paste some files in the same folder but with a new name"
      ]
    },
    {
      "execution_count": 0,
      "cell_type": "code",
      "metadata": {
        "hidden": true
      },
      "source": [
        "# import packages\nimport dataiku\n\n# get the project handle \nprojecthandle\u003ddataiku.api_client().get_project(dataiku.default_project_key())\n\n# get the current variable (country for you, year for me)\nmy_vars\u003dprojecthandle.get_variables()\nyear\u003dmy_vars[\"standard\"][\"selected_year\"]\n\n# get the final folder (you will find the folder ID in the URL that appears when you\u0027re in the folder)\nfolder_handle\u003ddataiku.Folder(\"xtJHWex9\")\n\n# path of your original dashboard (basically the name of the file preceded by a \"/\")\npath\u003d\"/Year-level-dashboard.pdf\"\n\n# new path for the new file (here I put the year (country for you) + \n# the current timestamp but it\u0027s up to you how you name it)\nfrom datetime import datetime\nnow\u003ddatetime.now()\nformatted_now\u003dstr(now.year)+\"-\"+str(now.month)+\"-\"+str(now.day)\nnew_path\u003d\"/year_\"+str(year)+\"_dashboard_exported_on_\"+formatted_now+\".pdf\"\n\n# copy the original file with a new file name that corresponds to country and date\n\nwith folder_handle.get_download_stream(path) as f:\n    data\u003df.read()\n\nwith folder_handle.get_writer(new_path) as w:\n    w.write(data)"
      ],
      "outputs": []
    },
    {
      "cell_type": "markdown",
      "metadata": {},
      "source": [
        "# VARIABLES"
      ]
    },
    {
      "execution_count": 1,
      "cell_type": "code",
      "metadata": {},
      "source": [
        "import dataiku\nimport datetime\n\n# get project\nprojecthandle\u003ddataiku.api_client().get_project(dataiku.default_project_key())\n\n# get variables\nvars\u003dprojecthandle.get_variables()\n\n# compute accurate value\nnow\u003ddatetime.datetime.now()\nten_days_before\u003dnow-datetime.timedelta(days\u003d10)\nlast_end_date\u003dten_days_before.strftime(\"%Y-%m-%d\")\n\n# update variable value\nvars[\"standard\"][\"last_end_date\"]\u003dlast_end_date\n\n# update project variables\nprojecthandle.set_variables(vars)"
      ],
      "outputs": []
    },
    {
      "execution_count": 10,
      "cell_type": "code",
      "metadata": {},
      "source": [
        "vars[\"standard\"][\"foo.bar\"]"
      ],
      "outputs": [
        {
          "output_type": "error",
          "ename": "KeyError",
          "evalue": "\u0027foo.bar\u0027",
          "traceback": [
            "\u001b[0;31m---------------------------------------------------------------------------\u001b[0m",
            "\u001b[0;31mKeyError\u001b[0m                                  Traceback (most recent call last)",
            "\u001b[0;32m\u003cipython-input-10-d80d539d0eb2\u003e\u001b[0m in \u001b[0;36m\u003cmodule\u003e\u001b[0;34m()\u001b[0m\n\u001b[0;32m----\u003e 1\u001b[0;31m \u001b[0mvars\u001b[0m\u001b[0;34m[\u001b[0m\u001b[0;34m\"standard\"\u001b[0m\u001b[0;34m]\u001b[0m\u001b[0;34m[\u001b[0m\u001b[0;34m\"foo.bar\"\u001b[0m\u001b[0;34m]\u001b[0m\u001b[0;34m\u001b[0m\u001b[0;34m\u001b[0m\u001b[0m\n\u001b[0m",
            "\u001b[0;31mKeyError\u001b[0m: \u0027foo.bar\u0027"
          ]
        }
      ]
    },
    {
      "execution_count": 11,
      "cell_type": "code",
      "metadata": {},
      "source": [
        "dataiku.get_custom_variables()[\"foo.bar\"]"
      ],
      "outputs": [
        {
          "output_type": "error",
          "ename": "KeyError",
          "evalue": "\u0027foo.bar\u0027",
          "traceback": [
            "\u001b[0;31m---------------------------------------------------------------------------\u001b[0m",
            "\u001b[0;31mKeyError\u001b[0m                                  Traceback (most recent call last)",
            "\u001b[0;32m\u003cipython-input-11-f5532d1e75be\u003e\u001b[0m in \u001b[0;36m\u003cmodule\u003e\u001b[0;34m()\u001b[0m\n\u001b[0;32m----\u003e 1\u001b[0;31m \u001b[0mdataiku\u001b[0m\u001b[0;34m.\u001b[0m\u001b[0mget_custom_variables\u001b[0m\u001b[0;34m(\u001b[0m\u001b[0;34m)\u001b[0m\u001b[0;34m[\u001b[0m\u001b[0;34m\"foo.bar\"\u001b[0m\u001b[0;34m]\u001b[0m\u001b[0;34m\u001b[0m\u001b[0;34m\u001b[0m\u001b[0m\n\u001b[0m",
            "\u001b[0;31mKeyError\u001b[0m: \u0027foo.bar\u0027"
          ]
        }
      ]
    },
    {
      "cell_type": "markdown",
      "metadata": {
        "heading_collapsed": true
      },
      "source": [
        "# PARTITIONS"
      ]
    },
    {
      "cell_type": "markdown",
      "metadata": {
        "hidden": true
      },
      "source": [
        "### On peut spécifier une recette générale puis expliciter la partition que l\u0027on veut construire avec l\u0027engrenage! "
      ]
    },
    {
      "execution_count": 0,
      "cell_type": "code",
      "metadata": {
        "hidden": true
      },
      "source": [
        "# lister les partitions\ndataset.list_partitions()"
      ],
      "outputs": []
    },
    {
      "execution_count": 0,
      "cell_type": "code",
      "metadata": {
        "scrolled": true,
        "hidden": true
      },
      "source": [
        "partitioned_code_input_df \u003d input_df # For this sample code, simply copy input to output\n\n# cette cellule ne marchera pas dans un notebook (mais ok dans une recette)\npartitioned_code_input_df[\"ma_partition\"] \u003d dataiku.dku_flow_variables[\"DKU_DST_DATE\"]\n"
      ],
      "outputs": []
    },
    {
      "cell_type": "markdown",
      "metadata": {
        "hidden": true
      },
      "source": [
        "Read only certain partitions"
      ]
    },
    {
      "cell_type": "markdown",
      "metadata": {
        "hidden": true
      },
      "source": [
        "\u003ccode\u003einput_ds \u003d dataiku.Dataset(\"input\")\ninput_ds.read_partitions \u003d [\u00272013-09-19\u0027, \u00272013-09-26\u0027]\ndf_part \u003d input_ds.get_dataframe()\n\u003c/code\u003e"
      ]
    },
    {
      "cell_type": "markdown",
      "metadata": {},
      "source": [
        "# CUSTOM METRICS AND CHECKS"
      ]
    },
    {
      "execution_count": 0,
      "cell_type": "code",
      "metadata": {},
      "source": [
        "# example for a metric in sql\n\nselect count(distinct \"merchant_id\") as unique_merchants \nfrom ${DKU_DATASET_TABLE_NAME}\n\n\n# example for a metric in python\ndef process(dataset, partition_id):\n    df \u003d dataset.get_dataframe()\n    max_purchase_amt \u003d df[\"purchase_amount\"].max()\n    max_purchase_amt_euro \u003d 0.85 * max_purchase_amt\n    return {\"max_purchase_in_euro\": max_purchase_amt_euro}\n"
      ],
      "outputs": []
    },
    {
      "cell_type": "markdown",
      "metadata": {},
      "source": [
        "# FORMULA LANGUAGE"
      ]
    },
    {
      "cell_type": "markdown",
      "metadata": {},
      "source": [
        "\u003ccode\u003e\n1\tJan\n2\tFeb\n3\tMar\n4\tApr\n5\tMay\n6\tJun\n7\tJul\n8\tAug\n9\tSep\n10\tOct\n11\tNov\n12\tDec \u003c/code\u003e"
      ]
    },
    {
      "cell_type": "markdown",
      "metadata": {},
      "source": [
        "# SCENARIOS"
      ]
    },
    {
      "cell_type": "markdown",
      "metadata": {},
      "source": [
        "Prototype a scenario"
      ]
    },
    {
      "execution_count": 0,
      "cell_type": "code",
      "metadata": {},
      "source": [
        "import dataiku\n\n# define a list\nyear_list\u003d[1,2]\n\n# get project handle\nprojecthandle\u003ddataiku.api_client().get_project(dataiku.default_project_key())\n\nfor year in year_list:\n    \n    # UPDATE THE VARIABLE\n\n    # get variables\n    my_vars\u003dprojecthandle.get_variables()\n    \n    \n    # update variable value\n    my_vars[\"standard\"][\"selected_year\"]\u003dyear\n\n    # update project variables\n    projecthandle.set_variables(my_vars)\n    \n    \n    # RUN THE SCENARIO\n    scenario \u003d projecthandle.get_scenario(\"Build_a_state_dashboard_and_send_it\")\n    scenario.run_and_wait()"
      ],
      "outputs": []
    }
  ]
}