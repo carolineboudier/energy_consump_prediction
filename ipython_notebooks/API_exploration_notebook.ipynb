{
  "metadata": {
    "kernelspec": {
      "name": "python3",
      "display_name": "Python 3",
      "language": "python"
    },
    "creator": "admin",
    "createdOn": 1645634285332,
    "tags": [],
    "customFields": {},
    "hide_input": false,
    "language_info": {
      "name": "python",
      "version": "3.7.9",
      "mimetype": "text/x-python",
      "codemirror_mode": {
        "name": "ipython",
        "version": 3
      },
      "pygments_lexer": "ipython3",
      "nbconvert_exporter": "python",
      "file_extension": ".py"
    },
    "modifiedBy": "admin"
  },
  "nbformat": 4,
  "nbformat_minor": 1,
  "cells": [
    {
      "execution_count": 1,
      "cell_type": "code",
      "metadata": {},
      "source": [
        "%pylab inline"
      ],
      "outputs": [
        {
          "output_type": "stream",
          "text": "Populating the interactive namespace from numpy and matplotlib\n",
          "name": "stdout"
        }
      ]
    },
    {
      "execution_count": 2,
      "cell_type": "code",
      "metadata": {},
      "source": [
        "import dataiku\nfrom dataiku import pandasutils as pdu\nimport pandas as pd"
      ],
      "outputs": []
    },
    {
      "execution_count": 7,
      "cell_type": "code",
      "metadata": {},
      "source": [
        "# create a client\nclient\u003ddataiku.api_client()\nprojects\u003dclient.list_projects()\nfor p in projects:\n    print (p[\u0027projectKey\u0027])"
      ],
      "outputs": [
        {
          "output_type": "stream",
          "text": "BOOK_RECOMENDER_SYSTEM\nBOOK_RECOMMENDER_SYSTEM_NEW\nCCFRAUDADVANCEDCORESTART\nCCFRAUDDEPLOYERSTARTER\nCUSTOMER_LIFETIME_VALUE_UPDATED_VERSION\nDKU_CHURN\nDKU_CUSTOMER_LIFETIME_VALUE\nDKU_EXAM_ADV_DESIGNER\nDKU_EXAM_DEVELOPER\nDKU_EXAM_ML_PRACTITIONER\nDKU_HAIKU_STARTER\nDKU_HAIKU_STARTER_1\nDKU_TUTORIAL_AUTOMATION\nDKU_TUTORIAL_BASICS_101\nDKU_TUTORIAL_BASICS_101_1\nDKU_TUTORIAL_BASICS_101_2\nDKU_TUTORIAL_DATAIKU_APPS\nDKU_TUTORIAL_DATAIKU_APPS_0GdGiLRa\nDKU_TUTORIAL_DEPLOY\nDKU_TUTORIAL_IMAGE_CLASSIFICATION_THE_VISUAL_WAY\nDKU_TUTORIAL_INTERACTIVE_STATISTICS\nDKU_TUTORIAL_MACHINE_LEARNING_BASICS\nDKU_TUTORIAL_MACHINE_LEARNING_BASICS_1\nDKU_TUTORIAL_MACHINE_LEARNING_BASICS_2\nDKU_TUTORIAL_NLP_VISUAL\nDKU_TUTORIAL_NLP_VISUAL_1\nDKU_TUTORIAL_PARTITIONED_MODELS\nDKU_TUTORIAL_RTIMESERIES\nDKU_TUTORIAL_SQL\nDKU_TUTORIAL_TIME_SERIES_PREPARATION\nDKU_TUT_APIS\nDKU_TUT_CCFRAUD\nDKU_TUT_CCFRAUD_1\nDKU_TUT_CCFRAUD_2\nDKU_TUT_CCFRAUD_3\nDKU_TUT_CODE_NOTEBOOKS\nDKU_TUT_CUSTOMPREPROCESSING\nDKU_TUT_FLOWVIEWS\nDKU_TUT_FORECAST\nDKU_TUT_FUZZY_JOIN\nDKU_TUT_GEOJOIN\nDKU_TUT_PARTITION_COLBASED\nDKU_TUT_PARTITION_FILEBASED\nDKU_TUT_PARTITION_SCENARIO\nDKU_TUT_PLUGINDEV\nDKU_TUT_SHARECODE_A\nDKU_TUT_SHARECODE_B\nDKU_TUT_VARCOD\nDKU_TUT_VARCOD_1Bfc1hmv\nDKU_TUT_VISUALIZATION\nDKU_TUT_VIZ102_FORMULA\nDKU_TUT_VIZ102_WINDOW\nDOC_CLASS\nENERGYCONSUMPTIONPREDICTION\nEXCELIMPORT\nHAIKU\nHANDS_ON_FIRST_CERTIF\nHOUSE_PRICING\nINSTANCE_FINANCE\nINSURANCEFRAUDDETECTION\nINTERNATIONAL_FLIGHT_REPORTING\nNEWCCDISCOVERYSETUP\nPREDICTIVEMAINTENANCE\nPROCESSORDERS\nSEPHPRODUCTRATING\nSOL_STOCK_ALERT\nSQL_TEST\nSTARTER\nUN_PROJECT\nWOMENINDEX\nWOMEN_EQUALITY_INDEX_DUPLICATED_BRANCH\n",
          "name": "stdout"
        }
      ]
    },
    {
      "execution_count": 9,
      "cell_type": "code",
      "metadata": {},
      "source": [
        "# current project\ndataiku.default_project_key()"
      ],
      "outputs": [
        {
          "output_type": "execute_result",
          "execution_count": 9,
          "data": {
            "text/plain": "\u0027ENERGYCONSUMPTIONPREDICTION\u0027"
          },
          "metadata": {}
        }
      ]
    },
    {
      "execution_count": 0,
      "cell_type": "code",
      "metadata": {},
      "source": [
        "# Example: load a DSS dataset as a Pandas dataframe\nmydataset \u003d dataiku.Dataset(\"mydataset\")\nmydataset_df \u003d mydataset.get_dataframe()"
      ],
      "outputs": []
    },
    {
      "execution_count": 0,
      "cell_type": "code",
      "metadata": {},
      "source": [
        ""
      ],
      "outputs": []
    },
    {
      "execution_count": 0,
      "cell_type": "code",
      "metadata": {},
      "source": [
        ""
      ],
      "outputs": []
    }
  ]
}