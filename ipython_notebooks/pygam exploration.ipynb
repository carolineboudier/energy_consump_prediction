{
  "metadata": {
    "kernelspec": {
      "name": "py-dku-venv-pygam_env",
      "display_name": "Python (env pygam_env)",
      "language": "python"
    },
    "creator": "admin",
    "createdOn": 1655819150923,
    "tags": [],
    "customFields": {},
    "hide_input": false,
    "language_info": {
      "name": "python",
      "version": "3.7.9",
      "mimetype": "text/x-python",
      "codemirror_mode": {
        "name": "ipython",
        "version": 3
      },
      "pygments_lexer": "ipython3",
      "nbconvert_exporter": "python",
      "file_extension": ".py"
    },
    "modifiedBy": "admin"
  },
  "nbformat": 4,
  "nbformat_minor": 1,
  "cells": [
    {
      "execution_count": 1,
      "cell_type": "code",
      "metadata": {},
      "source": [
        "%pylab inline"
      ],
      "outputs": [
        {
          "output_type": "stream",
          "text": "Populating the interactive namespace from numpy and matplotlib\n",
          "name": "stdout"
        }
      ]
    },
    {
      "execution_count": 2,
      "cell_type": "code",
      "metadata": {},
      "source": [
        "import dataiku\nfrom dataiku import pandasutils as pdu\nimport pandas as pd"
      ],
      "outputs": []
    },
    {
      "execution_count": 13,
      "cell_type": "code",
      "metadata": {},
      "source": [
        "from pygam.datasets import wage\nX_w,y_w\u003dwage()"
      ],
      "outputs": []
    },
    {
      "execution_count": 14,
      "cell_type": "code",
      "metadata": {},
      "source": [
        "model\u003dLinearGAM(s(0) + s(1) + f(2))\nmodel.fit(X_w,y_w)"
      ],
      "outputs": [
        {
          "output_type": "stream",
          "text": "/Users/carolineboudier/data_dir/code-envs/python/pygam_env/lib/python3.7/site-packages/pygam/utils.py:649: DeprecationWarning: `np.int` is a deprecated alias for the builtin `int`. To silence this warning, use `int` by itself. Doing this will not modify any behavior and is safe. When replacing `np.int`, you may wish to use e.g. `np.int64` or `np.int32` to specify the precision. If you wish to review your current use, check the release note link for additional information.\nDeprecated in NumPy 1.20; for more details and guidance: https://numpy.org/devdocs/release/1.20.0-notes.html#deprecations\n  bases \u003d (x \u003e\u003d aug_knots[:-1]).astype(np.int) * \\\n/Users/carolineboudier/data_dir/code-envs/python/pygam_env/lib/python3.7/site-packages/pygam/utils.py:650: DeprecationWarning: `np.int` is a deprecated alias for the builtin `int`. To silence this warning, use `int` by itself. Doing this will not modify any behavior and is safe. When replacing `np.int`, you may wish to use e.g. `np.int64` or `np.int32` to specify the precision. If you wish to review your current use, check the release note link for additional information.\nDeprecated in NumPy 1.20; for more details and guidance: https://numpy.org/devdocs/release/1.20.0-notes.html#deprecations\n  (x \u003c aug_knots[1:]).astype(np.int)\n",
          "name": "stderr"
        },
        {
          "output_type": "execute_result",
          "execution_count": 14,
          "data": {
            "text/plain": "LinearGAM(callbacks\u003d[Deviance(), Diffs()], fit_intercept\u003dTrue, \n   max_iter\u003d100, scale\u003dNone, terms\u003ds(0) + s(1) + f(2) + intercept, \n   tol\u003d0.0001, verbose\u003dFalse)"
          },
          "metadata": {}
        }
      ]
    },
    {
      "execution_count": 15,
      "cell_type": "code",
      "metadata": {},
      "source": [
        "model.predict(X_w)"
      ],
      "outputs": [
        {
          "output_type": "execute_result",
          "execution_count": 15,
          "data": {
            "text/plain": "array([ 55.55151604, 100.26058595, 111.82301154, ...,  70.8570264 ,\n        94.1870903 , 104.38643724])"
          },
          "metadata": {}
        }
      ]
    },
    {
      "execution_count": 25,
      "cell_type": "code",
      "metadata": {},
      "source": [
        "from sklearn.base import BaseEstimator\nimport numpy as np\nimport pandas as pd\nfrom pygam import LinearGAM, s, f\n\nclass pygam(BaseEstimator):\n    \"\"\"This model predicts random values between the mininimum and the maximum of y\"\"\"\n    \n    def __init__(self):\n        self.my_pygam\u003dLinearGAM(s(0) + s(1) + f(2))\n        \n    def fit(self, X, y):\n        self.my_pygam.fit(X,y)\n        self.y_range \u003d [np.min(y), np.max(y)]\n\n    def predict(self, X):\n        return self.my_pygam.predict(X)"
      ],
      "outputs": []
    },
    {
      "execution_count": 0,
      "cell_type": "code",
      "metadata": {},
      "source": [
        ""
      ],
      "outputs": []
    },
    {
      "execution_count": 27,
      "cell_type": "code",
      "metadata": {},
      "source": [
        "new_model\u003dpygam()"
      ],
      "outputs": []
    },
    {
      "execution_count": 30,
      "cell_type": "code",
      "metadata": {},
      "source": [
        "pygam.fit(X_w,y_w)"
      ],
      "outputs": [
        {
          "output_type": "error",
          "ename": "TypeError",
          "evalue": "fit() missing 1 required positional argument: \u0027y\u0027",
          "traceback": [
            "\u001b[0;31m---------------------------------------------------------------------------\u001b[0m",
            "\u001b[0;31mTypeError\u001b[0m                                 Traceback (most recent call last)",
            "\u001b[0;32m\u003cipython-input-30-b71c64c6de58\u003e\u001b[0m in \u001b[0;36m\u003cmodule\u003e\u001b[0;34m\u001b[0m\n\u001b[0;32m----\u003e 1\u001b[0;31m \u001b[0mpygam\u001b[0m\u001b[0;34m.\u001b[0m\u001b[0mfit\u001b[0m\u001b[0;34m(\u001b[0m\u001b[0mX_w\u001b[0m\u001b[0;34m,\u001b[0m\u001b[0my_w\u001b[0m\u001b[0;34m)\u001b[0m\u001b[0;34m\u001b[0m\u001b[0;34m\u001b[0m\u001b[0m\n\u001b[0m",
            "\u001b[0;31mTypeError\u001b[0m: fit() missing 1 required positional argument: \u0027y\u0027"
          ]
        }
      ]
    },
    {
      "execution_count": 0,
      "cell_type": "code",
      "metadata": {},
      "source": [
        ""
      ],
      "outputs": []
    }
  ]
}