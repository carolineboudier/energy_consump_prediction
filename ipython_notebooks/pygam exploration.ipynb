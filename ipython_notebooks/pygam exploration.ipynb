{
  "metadata": {
    "kernelspec": {
      "name": "py-dku-venv-pygam_env",
      "display_name": "Python (env pygam_env)",
      "language": "python"
    },
    "creator": "admin",
    "createdOn": 1655819150923,
    "tags": [],
    "customFields": {},
    "hide_input": false,
    "language_info": {
      "name": "python",
      "version": "3.7.9",
      "mimetype": "text/x-python",
      "codemirror_mode": {
        "name": "ipython",
        "version": 3
      },
      "pygments_lexer": "ipython3",
      "nbconvert_exporter": "python",
      "file_extension": ".py"
    },
    "modifiedBy": "admin"
  },
  "nbformat": 4,
  "nbformat_minor": 1,
  "cells": [
    {
      "execution_count": 1,
      "cell_type": "code",
      "metadata": {},
      "source": [
        "%pylab inline"
      ],
      "outputs": [
        {
          "output_type": "stream",
          "text": "Populating the interactive namespace from numpy and matplotlib\n",
          "name": "stdout"
        }
      ]
    },
    {
      "execution_count": 2,
      "cell_type": "code",
      "metadata": {},
      "source": [
        "import dataiku\nfrom dataiku import pandasutils as pdu\nimport pandas as pd"
      ],
      "outputs": []
    },
    {
      "execution_count": 3,
      "cell_type": "code",
      "metadata": {},
      "source": [
        "from sklearn.base import BaseEstimator\nimport numpy as np\nimport pandas as pd\nfrom pygam import LinearGAM, s, f\n\nclass pygam(BaseEstimator):\n    \"\"\"This model predicts random values between the mininimum and the maximum of y\"\"\"\n    \n    def __init__(self):\n        self.pygam\u003d\n        \n    def fit(self, X, y):\n        self.pygam.fit(X,y)\n        self.y_range \u003d [np.min(y), np.max(y)]\n\n    def predict(self, X):\n        return self.pygam.predict(X)"
      ],
      "outputs": []
    },
    {
      "execution_count": 0,
      "cell_type": "code",
      "metadata": {},
      "source": [
        "# Example: load a DSS dataset as a Pandas dataframe\nmydataset \u003d dataiku.Dataset(\"mydataset\")\nmydataset_df \u003d mydataset.get_dataframe()"
      ],
      "outputs": []
    },
    {
      "execution_count": 0,
      "cell_type": "code",
      "metadata": {},
      "source": [
        ""
      ],
      "outputs": []
    }
  ]
}