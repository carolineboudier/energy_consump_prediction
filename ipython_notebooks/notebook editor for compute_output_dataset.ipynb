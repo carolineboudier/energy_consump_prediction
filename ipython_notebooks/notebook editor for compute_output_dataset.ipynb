{
  "metadata": {
    "kernelspec": {
      "name": "python3",
      "display_name": "Python 3",
      "language": "python"
    },
    "associatedRecipe": "compute_output_dataset",
    "creator": "admin_2",
    "createdOn": 1650441068185,
    "tags": [
      "recipe-editor"
    ],
    "customFields": {},
    "hide_input": false,
    "language_info": {
      "name": "python",
      "version": "3.7.9",
      "mimetype": "text/x-python",
      "codemirror_mode": {
        "name": "ipython",
        "version": 3
      },
      "pygments_lexer": "ipython3",
      "nbconvert_exporter": "python",
      "file_extension": ".py"
    },
    "modifiedBy": "admin_2"
  },
  "nbformat": 4,
  "nbformat_minor": 1,
  "cells": [
    {
      "execution_count": 1,
      "cell_type": "code",
      "metadata": {},
      "source": [
        "# -*- coding: utf-8 -*-\nimport dataiku\nimport pandas as pd, numpy as np\nfrom dataiku import pandasutils as pdu\nfrom sklearn.externals import joblib\nimport os"
      ],
      "outputs": []
    },
    {
      "execution_count": 2,
      "cell_type": "code",
      "metadata": {},
      "source": [
        "# Read recipe inputs\nfolder_handle \u003d dataiku.Folder(\"1UUJ7dDF\")\nfolder_info \u003d folder_handle.get_info()\nclf \u003d joblib.load(os.path.join(folder_info[\u0027path\u0027], \u0027model.pkl\u0027))"
      ],
      "outputs": []
    },
    {
      "execution_count": 4,
      "cell_type": "code",
      "metadata": {},
      "source": [
        "clf \u003d joblib.load(os.path.join(folder_info[\u0027path\u0027], \u0027model.pkl\u0027))"
      ],
      "outputs": [
        {
          "output_type": "execute_result",
          "execution_count": 4,
          "data": {
            "text/plain": "RandomForestRegressor(bootstrap\u003dTrue, criterion\u003d\u0027mse\u0027, max_depth\u003d6,\n           max_features\u003d\u0027auto\u0027, max_leaf_nodes\u003dNone,\n           min_impurity_decrease\u003d0.0, min_impurity_split\u003dNone,\n           min_samples_leaf\u003d10, min_samples_split\u003d30,\n           min_weight_fraction_leaf\u003d0.0, n_estimators\u003d100, n_jobs\u003d1,\n           oob_score\u003dFalse, random_state\u003d1337, verbose\u003d2, warm_start\u003dFalse)"
          },
          "metadata": {}
        }
      ]
    }
  ]
}