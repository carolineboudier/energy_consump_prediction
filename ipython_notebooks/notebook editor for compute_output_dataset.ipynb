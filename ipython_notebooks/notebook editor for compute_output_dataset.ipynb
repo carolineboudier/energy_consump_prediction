{
  "metadata": {
    "kernelspec": {
      "name": "python3",
      "display_name": "Python 3",
      "language": "python"
    },
    "associatedRecipe": "compute_output_dataset",
    "creator": "admin_2",
    "createdOn": 1650441068185,
    "tags": [
      "recipe-editor"
    ],
    "customFields": {},
    "hide_input": false,
    "language_info": {
      "name": "python",
      "version": "3.7.9",
      "mimetype": "text/x-python",
      "codemirror_mode": {
        "name": "ipython",
        "version": 3
      },
      "pygments_lexer": "ipython3",
      "nbconvert_exporter": "python",
      "file_extension": ".py"
    },
    "modifiedBy": "admin_2"
  },
  "nbformat": 4,
  "nbformat_minor": 1,
  "cells": [
    {
      "execution_count": 1,
      "cell_type": "code",
      "metadata": {},
      "source": [
        "# -*- coding: utf-8 -*-\nimport dataiku\nimport pandas as pd, numpy as np\nfrom dataiku import pandasutils as pdu\nfrom sklearn.externals import joblib\nimport os"
      ],
      "outputs": []
    },
    {
      "execution_count": 11,
      "cell_type": "code",
      "metadata": {},
      "source": [
        "# Read recipe inputs\nhtml_files \u003d dataiku.Folder(\"1UUJ7dDF\")\nhtml_files_info \u003d html_files.get_info()"
      ],
      "outputs": []
    },
    {
      "execution_count": 9,
      "cell_type": "code",
      "metadata": {},
      "source": [
        "clf \u003d joblib.load(os.path.join(html_files_info[\u0027path\u0027], \u0027model.pkl\u0027))"
      ],
      "outputs": []
    },
    {
      "execution_count": 10,
      "cell_type": "code",
      "metadata": {},
      "source": [
        "clf"
      ],
      "outputs": [
        {
          "output_type": "execute_result",
          "execution_count": 10,
          "data": {
            "text/plain": "RandomForestRegressor(bootstrap\u003dTrue, criterion\u003d\u0027mse\u0027, max_depth\u003d6,\n           max_features\u003d\u0027auto\u0027, max_leaf_nodes\u003dNone,\n           min_impurity_decrease\u003d0.0, min_impurity_split\u003dNone,\n           min_samples_leaf\u003d10, min_samples_split\u003d30,\n           min_weight_fraction_leaf\u003d0.0, n_estimators\u003d100, n_jobs\u003d1,\n           oob_score\u003dFalse, random_state\u003d1337, verbose\u003d2, warm_start\u003dFalse)"
          },
          "metadata": {}
        }
      ]
    },
    {
      "execution_count": 0,
      "cell_type": "code",
      "metadata": {},
      "source": [
        "\n\n\n\n\n# Compute recipe outputs\n# TODO: Write here your actual code that computes the outputs\n# NB: DSS supports several kinds of APIs for reading and writing data. Please see doc.\n\noutput_dataset_df \u003d ... # Compute a Pandas dataframe to write into output_dataset\n\n\n# Write recipe outputs\noutput_dataset \u003d dataiku.Dataset(\"output_dataset\")\noutput_dataset.write_with_schema(output_dataset_df)"
      ],
      "outputs": []
    }
  ]
}