{
  "metadata": {
    "kernelspec": {
      "name": "python3",
      "display_name": "Python 3",
      "language": "python"
    },
    "associatedRecipe": "compute_output_dataset",
    "creator": "admin_2",
    "createdOn": 1650441068185,
    "tags": [
      "recipe-editor"
    ],
    "customFields": {},
    "hide_input": false,
    "language_info": {
      "name": "python",
      "version": "3.7.9",
      "mimetype": "text/x-python",
      "codemirror_mode": {
        "name": "ipython",
        "version": 3
      },
      "pygments_lexer": "ipython3",
      "nbconvert_exporter": "python",
      "file_extension": ".py"
    },
    "modifiedBy": "admin_2"
  },
  "nbformat": 4,
  "nbformat_minor": 1,
  "cells": [
    {
      "execution_count": 1,
      "cell_type": "code",
      "metadata": {},
      "source": [
        "# -*- coding: utf-8 -*-\nimport dataiku\nimport pandas as pd, numpy as np\nfrom dataiku import pandasutils as pdu"
      ],
      "outputs": []
    },
    {
      "execution_count": 3,
      "cell_type": "code",
      "metadata": {},
      "source": [
        "# Read recipe inputs\nhtml_files \u003d dataiku.Folder(\"1UUJ7dDF\")\nhtml_files_info \u003d html_files.get_info()"
      ],
      "outputs": [
        {
          "output_type": "execute_result",
          "execution_count": 3,
          "data": {
            "text/plain": "{\u0027accessInfo\u0027: {\u0027root\u0027: \u0027/Users/carolineboudier/data_dir/managed_folders/ENERGYCONSUMPTIONPREDICTION/1UUJ7dDF\u0027},\n \u0027directoryBasedPartitioning\u0027: False,\n \u0027id\u0027: \u00271UUJ7dDF\u0027,\n \u0027name\u0027: \u0027html_files\u0027,\n \u0027path\u0027: \u0027/Users/carolineboudier/data_dir/managed_folders/ENERGYCONSUMPTIONPREDICTION/1UUJ7dDF\u0027,\n \u0027projectKey\u0027: \u0027ENERGYCONSUMPTIONPREDICTION\u0027,\n \u0027type\u0027: \u0027Filesystem\u0027}"
          },
          "metadata": {}
        }
      ]
    },
    {
      "execution_count": 4,
      "cell_type": "code",
      "metadata": {},
      "source": [
        "from sklearn.externals import joblib"
      ],
      "outputs": []
    },
    {
      "execution_count": 0,
      "cell_type": "code",
      "metadata": {},
      "source": [
        ""
      ],
      "outputs": []
    },
    {
      "execution_count": 0,
      "cell_type": "code",
      "metadata": {},
      "source": [
        "clf \u003d joblib.load(os.path.join(folder_path, \u0027model.pkl\u0027))"
      ],
      "outputs": []
    },
    {
      "execution_count": 0,
      "cell_type": "code",
      "metadata": {},
      "source": [
        "\n\n\n\n\n# Compute recipe outputs\n# TODO: Write here your actual code that computes the outputs\n# NB: DSS supports several kinds of APIs for reading and writing data. Please see doc.\n\noutput_dataset_df \u003d ... # Compute a Pandas dataframe to write into output_dataset\n\n\n# Write recipe outputs\noutput_dataset \u003d dataiku.Dataset(\"output_dataset\")\noutput_dataset.write_with_schema(output_dataset_df)"
      ],
      "outputs": []
    }
  ]
}