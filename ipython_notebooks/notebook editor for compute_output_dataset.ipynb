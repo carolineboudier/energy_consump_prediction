{
  "nbformat": 4,
  "nbformat_minor": 0,
  "metadata": {
    "kernelspec": {
      "display_name": "Python 3",
      "language": "python",
      "name": "python3"
    },
    "associatedRecipe": "compute_output_dataset",
    "creator": "admin_2",
    "createdOn": 1650441068185,
    "tags": [
      "recipe-editor"
    ],
    "customFields": {}
  },
  "cells": [
    {
      "cell_type": "code",
      "metadata": {},
      "outputs": [],
      "execution_count": 0,
      "source": [
        "# -*- coding: utf-8 -*-\n",
        "import dataiku\n",
        "import pandas as pd, numpy as np\n",
        "from dataiku import pandasutils as pdu\n",
        "\n",
        "# Read recipe inputs\n",
        "html_files \u003d dataiku.Folder(\"1UUJ7dDF\")\n",
        "html_files_info \u003d html_files.get_info()\n",
        "\n",
        "\n",
        "# Compute recipe outputs\n",
        "# TODO: Write here your actual code that computes the outputs\n",
        "# NB: DSS supports several kinds of APIs for reading and writing data. Please see doc.\n",
        "\n",
        "output_dataset_df \u003d ... # Compute a Pandas dataframe to write into output_dataset\n",
        "\n",
        "\n",
        "# Write recipe outputs\n",
        "output_dataset \u003d dataiku.Dataset(\"output_dataset\")\n",
        "output_dataset.write_with_schema(output_dataset_df)"
      ]
    }
  ]
}