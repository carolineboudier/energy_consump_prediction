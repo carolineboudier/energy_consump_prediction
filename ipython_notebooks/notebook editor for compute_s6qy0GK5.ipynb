{
  "metadata": {
    "kernelspec": {
      "name": "python3",
      "display_name": "Python 3",
      "language": "python"
    },
    "associatedRecipe": "compute_s6qy0GK5",
    "creator": "admin",
    "createdOn": 1647969487195,
    "tags": [
      "recipe-editor"
    ],
    "customFields": {},
    "hide_input": false,
    "language_info": {
      "name": "python",
      "version": "3.7.9",
      "mimetype": "text/x-python",
      "codemirror_mode": {
        "name": "ipython",
        "version": 3
      },
      "pygments_lexer": "ipython3",
      "nbconvert_exporter": "python",
      "file_extension": ".py"
    },
    "modifiedBy": "admin"
  },
  "nbformat": 4,
  "nbformat_minor": 1,
  "cells": [
    {
      "execution_count": 1,
      "cell_type": "code",
      "metadata": {},
      "source": [
        "# -*- coding: utf-8 -*-\nimport dataiku\nimport pandas as pd, numpy as np\nfrom dataiku import pandasutils as pdu\n\n# Read recipe inputs\ndata_by_state_filtered_ordered \u003d dataiku.Dataset(\"data_by_state_filtered_ordered\")\ndata_by_state_filtered_ordered_df \u003d data_by_state_filtered_ordered.get_dataframe()"
      ],
      "outputs": []
    },
    {
      "execution_count": 5,
      "cell_type": "code",
      "metadata": {},
      "source": [
        "# Recipe outputs\nfolder_handle \u003d dataiku.Folder(\"s6qy0GK5\")\nfolder_path \u003d folder_handle.get_path()"
      ],
      "outputs": []
    },
    {
      "execution_count": 6,
      "cell_type": "code",
      "metadata": {},
      "source": [
        "path_output_folder\u003d\"datasets\""
      ],
      "outputs": []
    },
    {
      "execution_count": 0,
      "cell_type": "code",
      "metadata": {},
      "source": [
        "final_path\u003dos.path.join(folder_path,)"
      ],
      "outputs": []
    },
    {
      "execution_count": 0,
      "cell_type": "code",
      "metadata": {},
      "source": [
        "# LOCAL FOLDERS ONLY\nimport dataiku, os.path\n\nhandle \u003d dataiku.Folder(\"folder_name\")\npath \u003d handle.get_path()\n\n# read a file from a LOCAL folder\nwith open(os.path.join(path, \"myinputfile.txt\")) as f:\n    data \u003d f.read()"
      ],
      "outputs": []
    },
    {
      "execution_count": 0,
      "cell_type": "code",
      "metadata": {},
      "source": [
        "path\u003d\"/Vitals.csv\"\nwith handle.get_writer(path) as writer:\n    writer.write(Vitals.to_csv().encode(\"utf-8\"))"
      ],
      "outputs": []
    },
    {
      "execution_count": 0,
      "cell_type": "code",
      "metadata": {},
      "source": [
        "with handle.get_writer(\"myoutputfile.txt\") as w:\n    w.write(\"some data\")"
      ],
      "outputs": []
    }
  ]
}