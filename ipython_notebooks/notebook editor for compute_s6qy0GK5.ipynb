{
  "metadata": {
    "kernelspec": {
      "name": "python3",
      "display_name": "Python 3",
      "language": "python"
    },
    "associatedRecipe": "compute_s6qy0GK5",
    "creator": "admin",
    "createdOn": 1647969487195,
    "tags": [
      "recipe-editor"
    ],
    "customFields": {},
    "hide_input": false,
    "language_info": {
      "name": "python",
      "version": "3.7.9",
      "mimetype": "text/x-python",
      "codemirror_mode": {
        "name": "ipython",
        "version": 3
      },
      "pygments_lexer": "ipython3",
      "nbconvert_exporter": "python",
      "file_extension": ".py"
    },
    "modifiedBy": "admin"
  },
  "nbformat": 4,
  "nbformat_minor": 1,
  "cells": [
    {
      "execution_count": 1,
      "cell_type": "code",
      "metadata": {},
      "source": [
        "# -*- coding: utf-8 -*-\nimport dataiku\nimport pandas as pd, numpy as np\nfrom dataiku import pandasutils as pdu\n\n# Read recipe inputs\ndata_by_state_filtered_ordered \u003d dataiku.Dataset(\"data_by_state_filtered_ordered\")\ndata_by_state_filtered_ordered_df \u003d data_by_state_filtered_ordered.get_dataframe()"
      ],
      "outputs": []
    },
    {
      "execution_count": 2,
      "cell_type": "code",
      "metadata": {},
      "source": [
        "# Recipe outputs\nimport os\nfolder_handle \u003d dataiku.Folder(\"s6qy0GK5\")\nfolder_path \u003d folder_handle.get_path()"
      ],
      "outputs": []
    },
    {
      "execution_count": 3,
      "cell_type": "code",
      "metadata": {},
      "source": [
        "path_output_folder\u003d\"datasets\""
      ],
      "outputs": []
    },
    {
      "execution_count": 4,
      "cell_type": "code",
      "metadata": {},
      "source": [
        "final_path\u003dos.path.join(folder_path,path_output_folder,\"my_file.csv\")\nfinal_path"
      ],
      "outputs": [
        {
          "output_type": "execute_result",
          "execution_count": 4,
          "data": {
            "text/plain": "\u0027/Users/carolineboudier/data_dir/managed_folders/ENERGYCONSUMPTIONPREDICTION/s6qy0GK5/datasets/my_file.csv\u0027"
          },
          "metadata": {}
        }
      ]
    },
    {
      "execution_count": 5,
      "cell_type": "code",
      "metadata": {},
      "source": [
        "with folder_handle.get_writer(final_path) as writer:\n    writer.write(data_by_state_filtered_ordered_df.to_csv().encode(\"utf-8\"))"
      ],
      "outputs": []
    }
  ]
}