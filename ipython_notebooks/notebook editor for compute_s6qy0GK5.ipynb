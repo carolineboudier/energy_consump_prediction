{
  "nbformat": 4,
  "nbformat_minor": 0,
  "metadata": {
    "kernelspec": {
      "display_name": "Python 3",
      "language": "python",
      "name": "python3"
    },
    "associatedRecipe": "compute_s6qy0GK5",
    "dkuGit": {
      "lastInteraction": 0
    },
    "creationTag": {
      "versionNumber": 0,
      "lastModifiedBy": {
        "login": "admin"
      },
      "lastModifiedOn": 1647969487195
    },
    "creator": "admin",
    "createdOn": 1647969487195,
    "tags": [
      "recipe-editor"
    ],
    "customFields": {}
  },
  "cells": [
    {
      "cell_type": "code",
      "metadata": {},
      "outputs": [],
      "execution_count": 0,
      "source": [
        "# -*- coding: utf-8 -*-\n",
        "import dataiku\n",
        "import pandas as pd, numpy as np\n",
        "from dataiku import pandasutils as pdu\n",
        "\n",
        "# Read recipe inputs\n",
        "data_by_state_filtered_ordered \u003d dataiku.Dataset(\"data_by_state_filtered_ordered\")\n",
        "data_by_state_filtered_ordered_df \u003d data_by_state_filtered_ordered.get_dataframe()"
      ]
    },
    {
      "cell_type": "code",
      "metadata": {},
      "outputs": [],
      "execution_count": 0,
      "source": [
        "# Recipe outputs\n",
        "import os\n",
        "folder_handle \u003d dataiku.Folder(\"s6qy0GK5\")\n",
        "folder_path \u003d folder_handle.get_path()"
      ]
    },
    {
      "cell_type": "code",
      "metadata": {},
      "outputs": [],
      "execution_count": 0,
      "source": [
        "path_output_folder\u003d\"datasets\""
      ]
    },
    {
      "cell_type": "code",
      "metadata": {},
      "outputs": [],
      "execution_count": 0,
      "source": [
        "final_path\u003dos.path.join(folder_path,path_output_folder,\"my_file.csv\")"
      ]
    },
    {
      "cell_type": "code",
      "metadata": {},
      "outputs": [],
      "execution_count": 0,
      "source": [
        "with folder_handle.get_writer(final_path) as writer:\n",
        "    writer.write(data_by_state_filtered_ordered_df.to_csv().encode(\"utf-8\"))"
      ]
    }
  ]
}