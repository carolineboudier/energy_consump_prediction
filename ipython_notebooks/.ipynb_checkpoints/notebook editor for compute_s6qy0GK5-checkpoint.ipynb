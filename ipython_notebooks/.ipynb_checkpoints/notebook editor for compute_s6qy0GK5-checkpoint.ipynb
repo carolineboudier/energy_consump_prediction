{
  "nbformat": 4,
  "nbformat_minor": 0,
  "metadata": {
    "kernelspec": {
      "display_name": "Python 3",
      "language": "python",
      "name": "python3"
    },
    "associatedRecipe": "compute_s6qy0GK5",
    "creator": "admin",
    "createdOn": 1647969487195,
    "tags": [
      "recipe-editor"
    ],
    "customFields": {}
  },
  "cells": [
    {
      "cell_type": "code",
      "metadata": {},
      "outputs": [],
      "execution_count": 0,
      "source": [
        "# -*- coding: utf-8 -*-\n",
        "import dataiku\n",
        "import pandas as pd, numpy as np\n",
        "from dataiku import pandasutils as pdu\n",
        "\n",
        "# Read recipe inputs\n",
        "data_by_state_filtered_ordered \u003d dataiku.Dataset(\"data_by_state_filtered_ordered\")\n",
        "data_by_state_filtered_ordered_df \u003d data_by_state_filtered_ordered.get_dataframe()\n",
        "\n",
        "\n",
        "\n",
        "\n",
        "# Write recipe outputs\n",
        "output_datasets \u003d dataiku.Folder(\"s6qy0GK5\")\n",
        "output_datasets_info \u003d output_datasets.get_info()"
      ]
    }
  ]
}