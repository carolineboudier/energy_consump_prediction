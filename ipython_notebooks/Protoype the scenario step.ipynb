{
  "metadata": {
    "kernelspec": {
      "name": "python3",
      "display_name": "Python 3",
      "language": "python"
    },
    "creator": "admin",
    "createdOn": 1654849267445,
    "tags": [],
    "customFields": {},
    "hide_input": false,
    "language_info": {
      "name": "python",
      "version": "3.7.9",
      "mimetype": "text/x-python",
      "codemirror_mode": {
        "name": "ipython",
        "version": 3
      },
      "pygments_lexer": "ipython3",
      "nbconvert_exporter": "python",
      "file_extension": ".py"
    },
    "modifiedBy": "admin"
  },
  "nbformat": 4,
  "nbformat_minor": 1,
  "cells": [
    {
      "execution_count": 0,
      "cell_type": "code",
      "metadata": {},
      "source": [
        "import dataiku\n\n# define a list\nyear_list\u003d[1,2,3,4,5,6,7]\n\n# get project handle\nprojecthandle\u003ddataiku.api_client().get_project(dataiku.default_project_key())\n\nfor year in year_list:\n    \n    # UPDATE THE VARIABLE\n\n    # get variables\n    my_vars\u003dprojecthandle.get_variables()\n    \n    \n    # update variable value\n    my_vars[\"standard\"][\"selected_year\"]\u003dyear\n\n    # update project variables\n    projecthandle.set_variables(my_vars)\n    \n    \n    # RUN THE SCENARIO\n    scenario \u003d projecthandle.get_scenario(\"Build_a_state_dashboard_and_send_it\")\n    scenario.run_and_wait()"
      ],
      "outputs": []
    },
    {
      "execution_count": 50,
      "cell_type": "code",
      "metadata": {},
      "source": [
        "# import packages\nimport dataiku\n\n# get the project handle \nprojecthandle\u003ddataiku.api_client().get_project(dataiku.default_project_key())\n\n# get the current variable (country for you, year for me)\nmy_vars\u003dprojecthandle.get_variables()\nyear\u003dmy_vars[\"standard\"][\"selected_year\"]\n\n# get the final folder (you will find the folder ID in the URL that appears when you\u0027re in the folder)\nfolder_handle\u003ddataiku.Folder(\"xtJHWex9\")\n\n# path of your original dashboard (basically the name of the file preceded by a \"/\")\npath\u003d\"/Year-level-dashboard.pdf\"\n\n# new path for the new file (here I put the year (country for you) + \n# the current timestamp but it\u0027s up to you how you name it)\nfrom datetime import datetime\nnow\u003ddatetime.now()\nformatted_now\u003dstr(now.year)+\"-\"+str(now.month)+\"-\"+str(now.day)\nnew_path\u003d\"/year_\"+str(year)+\"_dashboard_exported_on_\"+formatted_now+\".pdf\"\n\n# copy the original file with a new file name that corresponds to country and date\n\nwith folder_handle.get_download_stream(path) as f:\n    data\u003df.read()\n\nwith folder_handle.get_writer(new_path) as w:\n    w.write(data)"
      ],
      "outputs": []
    },
    {
      "execution_count": 1,
      "cell_type": "code",
      "metadata": {
        "scrolled": false
      },
      "source": [
        "import time\nimport dataiku\n\n# get project handle\nproject\u003ddataiku.api_client().get_project(dataiku.default_project_key())\n\nscenarios_ids_to_run \u003d [\"Subscenario_A\", \"Subscenario_B\"]\n\nscenario_runs \u003d []\n\nfor scenario_id in scenarios_ids_to_run:\n    scenario \u003d project.get_scenario(scenario_id)\n\n    trigger_fire \u003d scenario.run()\n    # Wait for the trigger fire to have actually started a scenario\n    scenario_run \u003d trigger_fire.wait_for_scenario_run()\n    scenario_runs.append(scenario_run)\n\n# Poll all scenario runs, until all of them have completed\nwhile True:\n    any_not_complete \u003d False\n    for scenario_run in scenario_runs:\n        # Update the status from the DSS API\n        scenario_run.refresh()\n        if scenario_run.running:\n            any_not_complete \u003d True\n\n    if any_not_complete:\n        print(\"At least a scenario is still running...\")\n    else:\n        print(\"All scenarios are complete\")\n        break\n\n    # Wait a bit before checking again\n    time.sleep(2)"
      ],
      "outputs": [
        {
          "output_type": "stream",
          "text": "At least a scenario is still running...\nAt least a scenario is still running...\nAt least a scenario is still running...\nAt least a scenario is still running...\nAt least a scenario is still running...\nAt least a scenario is still running...\nAt least a scenario is still running...\nAt least a scenario is still running...\nAt least a scenario is still running...\nAt least a scenario is still running...\nAt least a scenario is still running...\nAt least a scenario is still running...\nAll scenarios are complete\n",
          "name": "stdout"
        }
      ]
    },
    {
      "execution_count": 5,
      "cell_type": "code",
      "metadata": {},
      "source": [
        "condition\u003dFalse\n\nif condition:\n    print(\"the scenario can run properly\")\n    \nelse :\n    print(\"the scenario cannot run properly\")\n    outcome\u003d\u0027FAILED\u0027\n    # update the status of the scenario to failed\n    \n# this should not run if the condition is not satisfied\nprint(\u0027All the scenario has been executed\u0027)"
      ],
      "outputs": [
        {
          "output_type": "stream",
          "text": "the scenario cannot run properly\nAll the scenario has been executed\n",
          "name": "stdout"
        }
      ]
    },
    {
      "execution_count": 6,
      "cell_type": "code",
      "metadata": {},
      "source": [
        "\nvariables\u003d{\u0027dip.home\u0027: \u0027/Users/carolineboudier/data_dir\u0027, \u0027dku.install.dir\u0027: \u0027/Users/carolineboudier/Desktop/dataiku-dss-10.0.0-osx\u0027, \u0027projectKey\u0027: \u0027ENERGYCONSUMPTIONPREDICTION\u0027, \u0027threshold_classif\u0027: 90, \u0027selected_state_list\u0027: [\u0027State_1\u0027, \u0027State_2\u0027, \u0027State_6\u0027, \u0027State_5\u0027], \u0027selected_year\u0027: 1, \u0027last_end_date\u0027: \u00272022-06-03\u0027, \u0027variable\u0027: \u0027name\u0027, \u0027nested_var\u0027: {\u0027var_1\u0027: \u0027State_6\u0027}, \u0027scenarioTriggerParams\u0027: {}, \u0027scenarioTriggerTime\u0027: 1655990119559, \u0027scenarioTriggerRunId\u0027: \u00272022-06-23-15-15-19-561\u0027, \u0027stepResults\u0027: {\u0027Step #1\u0027: {\u0027type\u0027: \u0027STEP_DONE\u0027, \u0027target\u0027: {\u0027projectKey\u0027: \u0027ENERGYCONSUMPTIONPREDICTION\u0027, \u0027scenarioId\u0027: \u0027Master_scenario__A_B_\u0027, \u0027stepId\u0027: \u0027comp_metrics_d_classif_eval\u0027, \u0027type\u0027: \u0027SCENARIO_STEP\u0027}, \u0027start\u0027: 1655990119801, \u0027end\u0027: 1655990119924, \u0027outcome\u0027: \u0027SUCCESS\u0027}}, \u0027scenarioRunURL\u0027: \u0027http://localhost:11000/projects/ENERGYCONSUMPTIONPREDICTION/scenarios/Master_scenario__A_B_/runs/list/2022-06-23-15-15-19-569\u0027, \u0027dssURL\u0027: \u0027http://localhost:11000\u0027, \u0027stepOutput_Step #1\u0027: {\u0027ENERGYCONSUMPTIONPREDICTION.classif_eval_NP\u0027: {\u0027target\u0027: {\u0027projectKey\u0027: \u0027ENERGYCONSUMPTIONPREDICTION\u0027, \u0027datasetName\u0027: \u0027classif_eval\u0027, \u0027partition\u0027: \u0027NP\u0027, \u0027type\u0027: \u0027DATASET_PARTITION\u0027}, \u0027partition\u0027: \u0027NP\u0027, \u0027startTime\u0027: 1655990119816, \u0027endTime\u0027: 1655990119891, \u0027skipped\u0027: [], \u0027computed\u0027: [{\u0027metric\u0027: {\u0027metricType\u0027: \u0027COUNT_COLUMNS\u0027, \u0027type\u0027: \u0027basic\u0027, \u0027id\u0027: \u0027basic:COUNT_COLUMNS\u0027, \u0027dataType\u0027: \u0027BIGINT\u0027}, \u0027metricId\u0027: \u0027basic:COUNT_COLUMNS\u0027, \u0027dataType\u0027: \u0027BIGINT\u0027, \u0027value\u0027: \u002780\u0027}, {\u0027metric\u0027: {\u0027metricType\u0027: \u0027COUNT_RECORDS\u0027, \u0027type\u0027: \u0027records\u0027, \u0027id\u0027: \u0027records:COUNT_RECORDS\u0027, \u0027dataType\u0027: \u0027BIGINT\u0027}, \u0027metricId\u0027: \u0027records:COUNT_RECORDS\u0027, \u0027dataType\u0027: \u0027BIGINT\u0027, \u0027value\u0027: \u00279705\u0027}, {\u0027metric\u0027: {\u0027metricType\u0027: \u0027METRICS_COMPUTATION_DURATION\u0027, \u0027type\u0027: \u0027reporting\u0027, \u0027id\u0027: \u0027reporting:METRICS_COMPUTATION_DURATION\u0027, \u0027dataType\u0027: \u0027BIGINT\u0027}, \u0027metricId\u0027: \u0027reporting:METRICS_COMPUTATION_DURATION\u0027, \u0027dataType\u0027: \u0027BIGINT\u0027, \u0027value\u0027: \u002775\u0027}], \u0027runs\u0027: [{\u0027engine\u0027: \u0027Basic\u0027}, {\u0027engine\u0027: \u0027SQL_Metrics\u0027}]}}, \u0027stepOutcomes\u0027: {\u0027Step #1\u0027: \u0027SUCCESS\u0027}, \u0027stepOutcome_Step #1\u0027: \u0027SUCCESS\u0027, \u0027outcome\u0027: \u0027SUCCESS\u0027, \u0027stepResult_Step #1\u0027: {\u0027type\u0027: \u0027STEP_DONE\u0027, \u0027target\u0027: {\u0027projectKey\u0027: \u0027ENERGYCONSUMPTIONPREDICTION\u0027, \u0027scenarioId\u0027: \u0027Master_scenario__A_B_\u0027, \u0027stepId\u0027: \u0027comp_metrics_d_classif_eval\u0027, \u0027type\u0027: \u0027SCENARIO_STEP\u0027}, \u0027start\u0027: 1655990119801, \u0027end\u0027: 1655990119924, \u0027outcome\u0027: \u0027SUCCESS\u0027}}"
      ],
      "outputs": []
    },
    {
      "execution_count": 8,
      "cell_type": "code",
      "metadata": {},
      "source": [
        "variables.keys()"
      ],
      "outputs": [
        {
          "output_type": "execute_result",
          "execution_count": 8,
          "data": {
            "text/plain": "dict_keys([\u0027dip.home\u0027, \u0027dku.install.dir\u0027, \u0027projectKey\u0027, \u0027threshold_classif\u0027, \u0027selected_state_list\u0027, \u0027selected_year\u0027, \u0027last_end_date\u0027, \u0027variable\u0027, \u0027nested_var\u0027, \u0027scenarioTriggerParams\u0027, \u0027scenarioTriggerTime\u0027, \u0027scenarioTriggerRunId\u0027, \u0027stepResults\u0027, \u0027scenarioRunURL\u0027, \u0027dssURL\u0027, \u0027stepOutput_Step #1\u0027, \u0027stepOutcomes\u0027, \u0027stepOutcome_Step #1\u0027, \u0027outcome\u0027, \u0027stepResult_Step #1\u0027])"
          },
          "metadata": {}
        }
      ]
    },
    {
      "execution_count": 12,
      "cell_type": "code",
      "metadata": {},
      "source": [
        "scenario_variables\u003dscenario.get_all_variables()\nscenario_variables[\"stepResult_Step #1\"][\"outcome\"]\u003d\u0027FAILED\u0027\nscenario.set_scenario_variables(scenario_variables)"
      ],
      "outputs": []
    },
    {
      "execution_count": 13,
      "cell_type": "code",
      "metadata": {},
      "source": [
        "year_list\u003d[1,2,3]\nassociated_emails\u003d{1:[\u0027ehfiuzehf\u0027],2:[\"dyazveydvzj\"],3:[\"izbfzib\"]}"
      ],
      "outputs": [
        {
          "output_type": "error",
          "ename": "AttributeError",
          "evalue": "\u0027DSSScenario\u0027 object has no attribute \u0027set_scenario_variables\u0027",
          "traceback": [
            "\u001b[0;31m---------------------------------------------------------------------------\u001b[0m",
            "\u001b[0;31mAttributeError\u001b[0m                            Traceback (most recent call last)",
            "\u001b[0;32m\u003cipython-input-13-823c3b81dad1\u003e\u001b[0m in \u001b[0;36m\u003cmodule\u003e\u001b[0;34m()\u001b[0m\n\u001b[0;32m----\u003e 1\u001b[0;31m \u001b[0mscenario\u001b[0m\u001b[0;34m.\u001b[0m\u001b[0mset_scenario_variables\u001b[0m\u001b[0;34m(\u001b[0m\u001b[0mscenario_variables\u001b[0m\u001b[0;34m)\u001b[0m\u001b[0;34m\u001b[0m\u001b[0;34m\u001b[0m\u001b[0m\n\u001b[0m",
            "\u001b[0;31mAttributeError\u001b[0m: \u0027DSSScenario\u0027 object has no attribute \u0027set_scenario_variables\u0027"
          ]
        }
      ]
    },
    {
      "execution_count": 0,
      "cell_type": "code",
      "metadata": {},
      "source": [
        ""
      ],
      "outputs": []
    }
  ]
}