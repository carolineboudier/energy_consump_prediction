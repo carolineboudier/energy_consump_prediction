{
  "metadata": {
    "kernelspec": {
      "name": "python3",
      "display_name": "Python 3",
      "language": "python"
    },
    "creator": "admin",
    "createdOn": 1654849267445,
    "tags": [],
    "customFields": {},
    "hide_input": false,
    "language_info": {
      "name": "python",
      "version": "3.7.9",
      "mimetype": "text/x-python",
      "codemirror_mode": {
        "name": "ipython",
        "version": 3
      },
      "pygments_lexer": "ipython3",
      "nbconvert_exporter": "python",
      "file_extension": ".py"
    },
    "modifiedBy": "admin"
  },
  "nbformat": 4,
  "nbformat_minor": 1,
  "cells": [
    {
      "execution_count": 1,
      "cell_type": "code",
      "metadata": {},
      "source": [
        "%pylab inline"
      ],
      "outputs": [
        {
          "output_type": "stream",
          "text": "Populating the interactive namespace from numpy and matplotlib\n",
          "name": "stdout"
        }
      ]
    },
    {
      "execution_count": 2,
      "cell_type": "code",
      "metadata": {},
      "source": [
        "import dataiku\nfrom dataiku import pandasutils as pdu\nimport pandas as pd"
      ],
      "outputs": []
    },
    {
      "execution_count": 3,
      "cell_type": "code",
      "metadata": {},
      "source": [
        "year_list\u003d[1,2,3,4,5,6,7]"
      ],
      "outputs": []
    },
    {
      "execution_count": 8,
      "cell_type": "code",
      "metadata": {},
      "source": [
        "for year in year_list:\n    \n    # UPDATE THE VARIABLE\n    # get project\n    projecthandle\u003ddataiku.api_client().get_project(dataiku.default_project_key())\n\n    # get variables\n    my_vars\u003dprojecthandle.get_variables()\n    \n    \n    # update variable value\n    my_vars[\"standard\"][\"selected_year\"]\u003dyear\n\n    # update project variables\n    projecthandle.set_variables(my_vars)\n    \n    \n    # RUN THE SCENARIO\n    \n    \n"
      ],
      "outputs": []
    },
    {
      "execution_count": 18,
      "cell_type": "code",
      "metadata": {},
      "source": [
        "project.get_scenario(\"Build_a_state_dashboard_and_send_it\")"
      ],
      "outputs": [
        {
          "output_type": "execute_result",
          "execution_count": 18,
          "data": {
            "text/plain": "\u003cdataikuapi.dss.scenario.DSSScenario at 0x1233c6c10\u003e"
          },
          "metadata": {}
        }
      ]
    },
    {
      "execution_count": 12,
      "cell_type": "code",
      "metadata": {},
      "source": [
        "scenario \u003d projecthandle.get_scenario(\"Build_a_state_dashboard_and_send_it\")\n"
      ],
      "outputs": [
        {
          "output_type": "execute_result",
          "execution_count": 12,
          "data": {
            "text/plain": "\u003cdataikuapi.dss.scenario.DSSScenario at 0x12334bfd0\u003e"
          },
          "metadata": {}
        }
      ]
    },
    {
      "execution_count": 19,
      "cell_type": "code",
      "metadata": {},
      "source": [
        "project\u003ddataiku.api_client().get_project(dataiku.default_project_key())\nproject.list_scenarios()"
      ],
      "outputs": [
        {
          "output_type": "execute_result",
          "execution_count": 19,
          "data": {
            "text/plain": "[{\u0027active\u0027: False,\n  \u0027automationLocal\u0027: False,\n  \u0027createdOn\u0027: 0,\n  \u0027id\u0027: \u0027BUILDYEARDASHBOARD\u0027,\n  \u0027lastModifiedOn\u0027: 0,\n  \u0027name\u0027: \u0027Build year dashboard\u0027,\n  \u0027nextRun\u0027: 0,\n  \u0027projectKey\u0027: \u0027ENERGYCONSUMPTIONPREDICTION\u0027,\n  \u0027reporterDigestItems\u0027: [],\n  \u0027runAsUser\u0027: \u0027admin\u0027,\n  \u0027running\u0027: False,\n  \u0027start\u0027: 0,\n  \u0027tags\u0027: [],\n  \u0027triggerDigest\u0027: \u0027\u0027,\n  \u0027triggerDigestItems\u0027: [],\n  \u0027type\u0027: \u0027step_based\u0027,\n  \u0027unavailable\u0027: False},\n {\u0027active\u0027: False,\n  \u0027automationLocal\u0027: False,\n  \u0027createdOn\u0027: 0,\n  \u0027id\u0027: \u0027Build_a_state_dashboard_and_send_it\u0027,\n  \u0027lastModifiedOn\u0027: 0,\n  \u0027name\u0027: \u0027Build a state dashboard and send it\u0027,\n  \u0027nextRun\u0027: 0,\n  \u0027projectKey\u0027: \u0027ENERGYCONSUMPTIONPREDICTION\u0027,\n  \u0027reporterDigestItems\u0027: [],\n  \u0027running\u0027: False,\n  \u0027start\u0027: 0,\n  \u0027tags\u0027: [],\n  \u0027triggerDigest\u0027: \u0027\u0027,\n  \u0027triggerDigestItems\u0027: [],\n  \u0027type\u0027: \u0027step_based\u0027,\n  \u0027unavailable\u0027: False},\n {\u0027active\u0027: True,\n  \u0027automationLocal\u0027: False,\n  \u0027createdOn\u0027: 0,\n  \u0027id\u0027: \u0027Kill_notebooks\u0027,\n  \u0027lastModifiedOn\u0027: 0,\n  \u0027name\u0027: \u0027Kill_notebooks\u0027,\n  \u0027nextRun\u0027: 1655103600000,\n  \u0027projectKey\u0027: \u0027ENERGYCONSUMPTIONPREDICTION\u0027,\n  \u0027reporterDigestItems\u0027: [],\n  \u0027running\u0027: False,\n  \u0027start\u0027: 0,\n  \u0027tags\u0027: [],\n  \u0027triggerDigest\u0027: \u0027Time-based\u0027,\n  \u0027triggerDigestItems\u0027: [{\u0027active\u0027: True,\n    \u0027description\u0027: \u0027Every Monday at 09:00\u0027,\n    \u0027name\u0027: \u0027Time-based\u0027,\n    \u0027nextRun\u0027: 1655103600000}],\n  \u0027type\u0027: \u0027step_based\u0027,\n  \u0027unavailable\u0027: False},\n {\u0027active\u0027: False,\n  \u0027automationLocal\u0027: False,\n  \u0027createdOn\u0027: 0,\n  \u0027id\u0027: \u0027Refresher\u0027,\n  \u0027lastModifiedOn\u0027: 0,\n  \u0027name\u0027: \u0027Refresh when input data changes\u0027,\n  \u0027nextRun\u0027: 0,\n  \u0027projectKey\u0027: \u0027ENERGYCONSUMPTIONPREDICTION\u0027,\n  \u0027reporterDigestItems\u0027: [],\n  \u0027running\u0027: False,\n  \u0027start\u0027: 0,\n  \u0027tags\u0027: [],\n  \u0027triggerDigest\u0027: \u0027Dataset modified\u0027,\n  \u0027triggerDigestItems\u0027: [{\u0027active\u0027: True,\n    \u0027description\u0027: \u0027When dataset unlabelled_data changes\u0027,\n    \u0027name\u0027: \u0027Dataset modified\u0027,\n    \u0027nextRun\u0027: 0}],\n  \u0027type\u0027: \u0027step_based\u0027,\n  \u0027unavailable\u0027: False},\n {\u0027active\u0027: False,\n  \u0027automationLocal\u0027: False,\n  \u0027createdOn\u0027: 0,\n  \u0027id\u0027: \u0027Update_the_flow_with_updated_end_date\u0027,\n  \u0027lastModifiedOn\u0027: 0,\n  \u0027name\u0027: \u0027Update the flow with updated end date\u0027,\n  \u0027nextRun\u0027: 0,\n  \u0027projectKey\u0027: \u0027ENERGYCONSUMPTIONPREDICTION\u0027,\n  \u0027reporterDigestItems\u0027: [],\n  \u0027running\u0027: False,\n  \u0027start\u0027: 0,\n  \u0027tags\u0027: [],\n  \u0027triggerDigest\u0027: \u0027\u0027,\n  \u0027triggerDigestItems\u0027: [],\n  \u0027type\u0027: \u0027step_based\u0027,\n  \u0027unavailable\u0027: False}]"
          },
          "metadata": {}
        }
      ]
    },
    {
      "execution_count": 0,
      "cell_type": "code",
      "metadata": {},
      "source": [
        ""
      ],
      "outputs": []
    }
  ]
}