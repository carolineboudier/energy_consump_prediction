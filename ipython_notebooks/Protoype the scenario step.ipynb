{
  "metadata": {
    "kernelspec": {
      "name": "python3",
      "display_name": "Python 3",
      "language": "python"
    },
    "creator": "admin",
    "createdOn": 1654849267445,
    "tags": [],
    "customFields": {},
    "hide_input": false,
    "language_info": {
      "name": "python",
      "version": "3.7.9",
      "mimetype": "text/x-python",
      "codemirror_mode": {
        "name": "ipython",
        "version": 3
      },
      "pygments_lexer": "ipython3",
      "nbconvert_exporter": "python",
      "file_extension": ".py"
    },
    "modifiedBy": "admin"
  },
  "nbformat": 4,
  "nbformat_minor": 1,
  "cells": [
    {
      "execution_count": 0,
      "cell_type": "code",
      "metadata": {},
      "source": [
        "import dataiku\n\n# define a list\nyear_list\u003d[1,2,3,4,5,6,7]\n\n# get project handle\nprojecthandle\u003ddataiku.api_client().get_project(dataiku.default_project_key())\n\nfor year in year_list:\n    \n    # UPDATE THE VARIABLE\n\n    # get variables\n    my_vars\u003dprojecthandle.get_variables()\n    \n    \n    # update variable value\n    my_vars[\"standard\"][\"selected_year\"]\u003dyear\n\n    # update project variables\n    projecthandle.set_variables(my_vars)\n    \n    \n    # RUN THE SCENARIO\n    scenario \u003d projecthandle.get_scenario(\"Build_a_state_dashboard_and_send_it\")\n    scenario.run_and_wait()"
      ],
      "outputs": []
    },
    {
      "execution_count": 1,
      "cell_type": "code",
      "metadata": {},
      "source": [
        "import dataiku\n\n# export dashboard to a managed folder"
      ],
      "outputs": []
    },
    {
      "execution_count": 3,
      "cell_type": "code",
      "metadata": {},
      "source": [
        "project_handle\u003ddataiku.api_client().get_project(dataiku.default_project_key())\nfolder_handle\u003ddataiku.Folder(\"xtJHWex9\")"
      ],
      "outputs": []
    },
    {
      "execution_count": 19,
      "cell_type": "code",
      "metadata": {},
      "source": [
        "path\u003dfolder_handle.list_paths_in_partition()[0]\npath"
      ],
      "outputs": [
        {
          "output_type": "execute_result",
          "execution_count": 19,
          "data": {
            "text/plain": "\u0027/Year-level-dashboard.pdf\u0027"
          },
          "metadata": {}
        }
      ]
    },
    {
      "execution_count": 20,
      "cell_type": "code",
      "metadata": {},
      "source": [
        "new_path\u003d\u0027/test.pdf\u0027"
      ],
      "outputs": []
    },
    {
      "execution_count": 22,
      "cell_type": "code",
      "metadata": {},
      "source": [
        "with folder_handle.get_download_stream(path) as f:\n    data\u003df.read()\n\n\nwith folder_handle.get_writer(new_path) as w:\n    w.write(data)"
      ],
      "outputs": []
    },
    {
      "execution_count": 0,
      "cell_type": "code",
      "metadata": {},
      "source": [
        "        with input_folder.get_download_stream(paths[x]) as f:\n            data \u003d f.read()\n        with output_folder1.get_writer(paths[x]) as w:\n            w.write(data)"
      ],
      "outputs": []
    },
    {
      "execution_count": 31,
      "cell_type": "code",
      "metadata": {},
      "source": [
        "# import packages\nimport dataiku\n\n# get the project handle \nprojecthandle\u003ddataiku.api_client().get_project(dataiku.default_project_key())\n\n# get the current variable (country for you, year for me)\nmy_vars\u003dprojecthandle.get_variables()\nyear\u003dmy_vars[\"standard\"][\"selected_year\"]\n\n# get the final folder (you will find the folder ID in the URL that appears when you\u0027re in the folder)\nfolder_handle\u003ddataiku.Folder(\"xtJHWex9\")\n\n# path of your original dashboard (basically the name of the file preceded by a \"/\")\npath\u003d\"/Year-level-dashboard.pdf\"\n\n# new path for the new file (here I put the year (country for you) + \n# the current timestamp but it\u0027s up to you how you name it)\n\n"
      ],
      "outputs": []
    },
    {
      "execution_count": 0,
      "cell_type": "code",
      "metadata": {},
      "source": [
        ""
      ],
      "outputs": []
    }
  ]
}