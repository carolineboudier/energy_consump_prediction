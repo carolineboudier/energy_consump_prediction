{
  "metadata": {
    "kernelspec": {
      "name": "python3",
      "display_name": "Python 3",
      "language": "python"
    },
    "creator": "admin",
    "createdOn": 1654849267445,
    "tags": [],
    "customFields": {},
    "hide_input": false,
    "language_info": {
      "name": "python",
      "version": "3.7.9",
      "mimetype": "text/x-python",
      "codemirror_mode": {
        "name": "ipython",
        "version": 3
      },
      "pygments_lexer": "ipython3",
      "nbconvert_exporter": "python",
      "file_extension": ".py"
    },
    "modifiedBy": "admin"
  },
  "nbformat": 4,
  "nbformat_minor": 1,
  "cells": [
    {
      "execution_count": 0,
      "cell_type": "code",
      "metadata": {},
      "source": [
        "import dataiku\n\n# define a list\nyear_list\u003d[1,2,3,4,5,6,7]\n\n# get project handle\nprojecthandle\u003ddataiku.api_client().get_project(dataiku.default_project_key())\n\nfor year in year_list:\n    \n    # UPDATE THE VARIABLE\n\n    # get variables\n    my_vars\u003dprojecthandle.get_variables()\n    \n    \n    # update variable value\n    my_vars[\"standard\"][\"selected_year\"]\u003dyear\n\n    # update project variables\n    projecthandle.set_variables(my_vars)\n    \n    \n    # RUN THE SCENARIO\n    scenario \u003d projecthandle.get_scenario(\"Build_a_state_dashboard_and_send_it\")\n    scenario.run_and_wait()"
      ],
      "outputs": []
    },
    {
      "execution_count": 0,
      "cell_type": "code",
      "metadata": {},
      "source": [
        "import dataiku\n\nfrom dataiku.scenario import Scenario\n\n \n\n# obtain a handle on my instance and project key\n\nclient \u003d dataiku.api_client()\n\nproject \u003d dataiku.api_client().get_project(dataiku.default_project_key())\n\n \n\n# obtain dictionary that contains project variables\n\nvariables \u003d project.get_variables()\n\n \n\n# load needed datasets\n\nfiltered_data_one_country \u003d dataiku.Dataset(\"filtered_data\")\n\nfiltered_data_one_country_df \u003d filtered_data_one_country.get_dataframe()\n\n \n\n# loop so project variable ${country} will equal each country in our dataset\n\ncountries \u003d filtered_data_one_country_df[\u0027Country\u0027].unique().tolist() # this is the list of all countries\n\n \n\nfor c in countries:\n\n    variables[\u0027standard\u0027][\u0027country\u0027] \u003d c\n\n    project.set_variables(variables)\n\n    Scenario().run_scenario(\"build_one_country_dataset_and_pdf\", asynchronous\u003dFalse, fail_fatal\u003dFalse)"
      ],
      "outputs": []
    }
  ]
}