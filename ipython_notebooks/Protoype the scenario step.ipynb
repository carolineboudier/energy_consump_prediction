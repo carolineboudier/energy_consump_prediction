{
  "metadata": {
    "kernelspec": {
      "name": "python3",
      "display_name": "Python 3",
      "language": "python"
    },
    "creator": "admin",
    "createdOn": 1654849267445,
    "tags": [],
    "customFields": {},
    "hide_input": false,
    "language_info": {
      "name": "python",
      "version": "3.7.9",
      "mimetype": "text/x-python",
      "codemirror_mode": {
        "name": "ipython",
        "version": 3
      },
      "pygments_lexer": "ipython3",
      "nbconvert_exporter": "python",
      "file_extension": ".py"
    },
    "modifiedBy": "admin"
  },
  "nbformat": 4,
  "nbformat_minor": 1,
  "cells": [
    {
      "execution_count": 1,
      "cell_type": "code",
      "metadata": {},
      "source": [
        "%pylab inline"
      ],
      "outputs": [
        {
          "output_type": "stream",
          "text": "Populating the interactive namespace from numpy and matplotlib\n",
          "name": "stdout"
        }
      ]
    },
    {
      "execution_count": 2,
      "cell_type": "code",
      "metadata": {},
      "source": [
        "import dataiku\nfrom dataiku import pandasutils as pdu\nimport pandas as pd"
      ],
      "outputs": []
    },
    {
      "execution_count": 3,
      "cell_type": "code",
      "metadata": {},
      "source": [
        "year_list\u003d[1,2,3,4,5,6,7]"
      ],
      "outputs": []
    },
    {
      "execution_count": 8,
      "cell_type": "code",
      "metadata": {},
      "source": [
        "for year in year_list:\n    \n    # UPDATE THE VARIABLE\n    # get project\n    projecthandle\u003ddataiku.api_client().get_project(dataiku.default_project_key())\n\n    # get variables\n    my_vars\u003dprojecthandle.get_variables()\n    \n    \n    # update variable value\n    my_vars[\"standard\"][\"selected_year\"]\u003dyear\n\n    # update project variables\n    projecthandle.set_variables(my_vars)\n    \n"
      ],
      "outputs": []
    },
    {
      "execution_count": 0,
      "cell_type": "code",
      "metadata": {},
      "source": [
        "# get project\nprojecthandle\u003ddataiku.api_client().get_project(dataiku.default_project_key())\n\n# get variables\nvars\u003dprojecthandle.get_variables()\n\n# compute accurate value\nnow\u003ddatetime.datetime.now()\nten_days_before\u003dnow-datetime.timedelta(days\u003d10)\nlast_end_date\u003dten_days_before.strftime(\"%Y-%m-%d\")\n\n# update variable value\nvars[\"standard\"][\"last_end_date\"]\u003dlast_end_date\n\n# update project variables\nprojecthandle.set_variables(vars)"
      ],
      "outputs": []
    },
    {
      "execution_count": 6,
      "cell_type": "code",
      "metadata": {},
      "source": [
        "var_dict\u003ddataiku.get_custom_variables()\n"
      ],
      "outputs": []
    },
    {
      "execution_count": 0,
      "cell_type": "code",
      "metadata": {},
      "source": [
        "# Example: load a DSS dataset as a Pandas dataframe\nmydataset \u003d dataiku.Dataset(\"mydataset\")\nmydataset_df \u003d mydataset.get_dataframe()"
      ],
      "outputs": []
    },
    {
      "execution_count": 0,
      "cell_type": "code",
      "metadata": {},
      "source": [
        ""
      ],
      "outputs": []
    }
  ]
}